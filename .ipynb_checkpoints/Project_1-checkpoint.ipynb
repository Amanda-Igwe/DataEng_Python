{
 "cells": [
  {
   "cell_type": "markdown",
   "id": "b3e6aee0",
   "metadata": {},
   "source": [
    "### Navigation System App"
   ]
  },
  {
   "cell_type": "code",
   "execution_count": 14,
   "id": "e06f841c",
   "metadata": {},
   "outputs": [
    {
     "name": "stdout",
     "output_type": "stream",
     "text": [
      "total commute time is: 110\n"
     ]
    }
   ],
   "source": [
    "# creating the variables\n",
    "\n",
    "\n",
    "normal_commute_time = 30\n",
    "\n",
    "is_raining = True\n",
    "is_traffic = True\n",
    "traffic_time = 20\n",
    "raining_time = 10\n",
    "\n",
    "\n",
    "if is_raining == False and is_traffic == False:\n",
    "    total_commute_time = normal_commute_time\n",
    "    print(f\"total commute time is: {total_commute_time}\")\n",
    "elif is_raining == True and is_traffic == False:\n",
    "    total_commute_time = normal_commute_time + raining_time\n",
    "    print(f\"total commute time is: {total_commute_time}\")\n",
    "elif is_traffic == True and is_raining == False:\n",
    "    total_commute_time = normal_commute_time + traffic_time\n",
    "    print(f\"total commute time is: {total_commute_time}\")\n",
    "else:\n",
    "    total_commute_time = normal_commute_time + raining_time + traffic_time\n",
    "    print(f\"total commute time is: {total_commute_time}\")\n",
    "\n"
   ]
  },
  {
   "cell_type": "code",
   "execution_count": null,
   "id": "7b49ebe0",
   "metadata": {},
   "outputs": [],
   "source": []
  }
 ],
 "metadata": {
  "kernelspec": {
   "display_name": "Python 3 (ipykernel)",
   "language": "python",
   "name": "python3"
  },
  "language_info": {
   "codemirror_mode": {
    "name": "ipython",
    "version": 3
   },
   "file_extension": ".py",
   "mimetype": "text/x-python",
   "name": "python",
   "nbconvert_exporter": "python",
   "pygments_lexer": "ipython3",
   "version": "3.11.5"
  }
 },
 "nbformat": 4,
 "nbformat_minor": 5
}
