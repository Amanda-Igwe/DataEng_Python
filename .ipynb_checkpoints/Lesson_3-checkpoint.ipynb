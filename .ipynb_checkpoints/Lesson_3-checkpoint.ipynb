{
 "cells": [
  {
   "cell_type": "markdown",
   "id": "2008d2d3",
   "metadata": {},
   "source": [
    "#### CONTROL FLOWS\n",
    "\n",
    "\n",
    "#### Conditional Statements"
   ]
  },
  {
   "cell_type": "code",
   "execution_count": 2,
   "id": "d46ff8e0",
   "metadata": {},
   "outputs": [
    {
     "name": "stdout",
     "output_type": "stream",
     "text": [
      "False\n"
     ]
    }
   ],
   "source": [
    "print(\"a\" == \"b\") #equality sign"
   ]
  },
  {
   "cell_type": "code",
   "execution_count": 3,
   "id": "3c6f321b",
   "metadata": {},
   "outputs": [
    {
     "name": "stdout",
     "output_type": "stream",
     "text": [
      "True\n"
     ]
    }
   ],
   "source": [
    "print(5 != 3)  #not equal"
   ]
  },
  {
   "cell_type": "code",
   "execution_count": 4,
   "id": "2b797c08",
   "metadata": {},
   "outputs": [
    {
     "name": "stdout",
     "output_type": "stream",
     "text": [
      "True\n"
     ]
    }
   ],
   "source": [
    "print(4 > 3) #greater than"
   ]
  },
  {
   "cell_type": "code",
   "execution_count": 5,
   "id": "b47d6754",
   "metadata": {},
   "outputs": [
    {
     "name": "stdout",
     "output_type": "stream",
     "text": [
      "True\n"
     ]
    }
   ],
   "source": [
    "print(20 <= 20) #less than or equal to"
   ]
  },
  {
   "cell_type": "code",
   "execution_count": 6,
   "id": "7909503e",
   "metadata": {},
   "outputs": [
    {
     "name": "stdout",
     "output_type": "stream",
     "text": [
      "False\n"
     ]
    }
   ],
   "source": [
    "print( 25 >= 100)"
   ]
  },
  {
   "cell_type": "markdown",
   "id": "0ca3354e",
   "metadata": {},
   "source": [
    "#### Logical Operators\n",
    "\n",
    "#### * and\n",
    "### * or"
   ]
  },
  {
   "cell_type": "code",
   "execution_count": 7,
   "id": "e4b5c243",
   "metadata": {},
   "outputs": [
    {
     "name": "stdout",
     "output_type": "stream",
     "text": [
      "False\n"
     ]
    }
   ],
   "source": [
    "print(2 > 5 or 10 < 10)"
   ]
  },
  {
   "cell_type": "code",
   "execution_count": 8,
   "id": "3cde3326",
   "metadata": {},
   "outputs": [
    {
     "name": "stdout",
     "output_type": "stream",
     "text": [
      "True\n"
     ]
    }
   ],
   "source": [
    "print(2 > 5 or 10 == 10)"
   ]
  },
  {
   "cell_type": "code",
   "execution_count": 9,
   "id": "a67f0f61",
   "metadata": {},
   "outputs": [
    {
     "name": "stdout",
     "output_type": "stream",
     "text": [
      "True\n"
     ]
    }
   ],
   "source": [
    "print(10 > 3 or 6 < 10)"
   ]
  },
  {
   "cell_type": "code",
   "execution_count": 10,
   "id": "91a7a511",
   "metadata": {},
   "outputs": [
    {
     "name": "stdout",
     "output_type": "stream",
     "text": [
      "True\n"
     ]
    }
   ],
   "source": [
    "print(10 < 100 or 6 < 10)"
   ]
  },
  {
   "cell_type": "code",
   "execution_count": 11,
   "id": "1e4bf17b",
   "metadata": {},
   "outputs": [
    {
     "name": "stdout",
     "output_type": "stream",
     "text": [
      "True\n"
     ]
    }
   ],
   "source": [
    "print(10 < 100 and 6 < 10)"
   ]
  },
  {
   "cell_type": "code",
   "execution_count": 12,
   "id": "90f5a55f",
   "metadata": {},
   "outputs": [
    {
     "name": "stdout",
     "output_type": "stream",
     "text": [
      "True\n"
     ]
    }
   ],
   "source": [
    "print(10 >= 3 and 10 <= 10)"
   ]
  },
  {
   "cell_type": "markdown",
   "id": "269b17e1",
   "metadata": {},
   "source": [
    "#### IF AND ELSE STATEMENTS"
   ]
  },
  {
   "cell_type": "code",
   "execution_count": null,
   "id": "3e3546f7",
   "metadata": {},
   "outputs": [],
   "source": [
    "if #condition to check :\n",
    "    # action to perform "
   ]
  },
  {
   "cell_type": "code",
   "execution_count": 16,
   "id": "88f261c4",
   "metadata": {},
   "outputs": [],
   "source": [
    "student_complete_assignment = True\n",
    "    "
   ]
  },
  {
   "cell_type": "code",
   "execution_count": 18,
   "id": "0f0079c8",
   "metadata": {},
   "outputs": [
    {
     "name": "stdout",
     "output_type": "stream",
     "text": [
      "You are eligible to be in the next class\n"
     ]
    }
   ],
   "source": [
    "if student_complete_assignment == True :\n",
    "    print(\"You are eligible to be in the next class\")"
   ]
  },
  {
   "cell_type": "code",
   "execution_count": 20,
   "id": "36c50cc4",
   "metadata": {},
   "outputs": [],
   "source": [
    "student_complete_assignment = True\n",
    "    "
   ]
  },
  {
   "cell_type": "code",
   "execution_count": 21,
   "id": "916fadb5",
   "metadata": {},
   "outputs": [
    {
     "name": "stdout",
     "output_type": "stream",
     "text": [
      "True\n"
     ]
    }
   ],
   "source": [
    "print(student_complete_assignment == True)"
   ]
  },
  {
   "cell_type": "code",
   "execution_count": 22,
   "id": "d4e61b3f",
   "metadata": {},
   "outputs": [
    {
     "name": "stdout",
     "output_type": "stream",
     "text": [
      "You are eligible to be in the next class\n"
     ]
    }
   ],
   "source": [
    "if student_complete_assignment == True :\n",
    "    print(\"You are eligible to be in the next class\")\n",
    "else : \n",
    "    print(\"You are not eligible to be in the next class\")"
   ]
  },
  {
   "cell_type": "code",
   "execution_count": 23,
   "id": "0ea20182",
   "metadata": {},
   "outputs": [],
   "source": [
    "student_complete_assignment = False\n"
   ]
  },
  {
   "cell_type": "code",
   "execution_count": 24,
   "id": "012ceb60",
   "metadata": {},
   "outputs": [
    {
     "name": "stdout",
     "output_type": "stream",
     "text": [
      "You are not eligible to be in the next class\n"
     ]
    }
   ],
   "source": [
    "if student_complete_assignment == True :\n",
    "    print(\"You are eligible to be in the next class\")\n",
    "else : \n",
    "    print(\"You are not eligible to be in the next class\")"
   ]
  },
  {
   "cell_type": "code",
   "execution_count": 28,
   "id": "6594536e",
   "metadata": {},
   "outputs": [],
   "source": [
    "number = 100"
   ]
  },
  {
   "cell_type": "code",
   "execution_count": 30,
   "id": "02ed20e1",
   "metadata": {},
   "outputs": [
    {
     "name": "stdout",
     "output_type": "stream",
     "text": [
      "That's too expensive\n"
     ]
    }
   ],
   "source": [
    "if number >= 10 :\n",
    "    print(\"That's too expensive\")\n",
    "else:\n",
    "    print(\"That's cheap\")"
   ]
  },
  {
   "cell_type": "code",
   "execution_count": 9,
   "id": "37517d9f",
   "metadata": {},
   "outputs": [],
   "source": [
    "amanda_age = 15"
   ]
  },
  {
   "cell_type": "code",
   "execution_count": 10,
   "id": "62e03fab",
   "metadata": {},
   "outputs": [],
   "source": [
    "yinka_age = 15"
   ]
  },
  {
   "cell_type": "code",
   "execution_count": 11,
   "id": "a6412b3c",
   "metadata": {},
   "outputs": [
    {
     "name": "stdout",
     "output_type": "stream",
     "text": [
      "They are of the same age\n"
     ]
    }
   ],
   "source": [
    "if amanda_age > yinka_age:\n",
    "    print(\"amanda is older than yinka\")\n",
    "elif amanda_age == yinka_age:\n",
    "    print(\"They are of the same age\")\n",
    "else:\n",
    "    print(\"yinka is older than amanda\")"
   ]
  },
  {
   "cell_type": "code",
   "execution_count": 13,
   "id": "a43324a5",
   "metadata": {},
   "outputs": [
    {
     "name": "stdout",
     "output_type": "stream",
     "text": [
      "Welcome to this movie website, \n",
      "please this movies contain some abusive language,\n",
      "You need to be older than 18, please parental guide is advised.\n",
      "How old are you:  20\n",
      "Checking customer age for eligibility, hold on a sec\n",
      "Welcome, you are eligible to watch this movie\n"
     ]
    }
   ],
   "source": [
    "print(\"\"\"Welcome to this movie website, \n",
    "please this movies contain some abusive language,\n",
    "You need to be older than 18, please parental guide is advised.\"\"\")\n",
    "      \n",
    "customer_age = int(input(\"How old are you:  \"))\n",
    "print(\"Checking customer age for eligibility, hold on a sec\")\n",
    "\n",
    "if customer_age >= 18:\n",
    "      print(\"Welcome, you are eligible to watch this movie\")\n",
    "else:\n",
    "      print(\"Please, you are too young to watch this movie\")"
   ]
  },
  {
   "cell_type": "code",
   "execution_count": null,
   "id": "79b69b6a",
   "metadata": {},
   "outputs": [],
   "source": []
  },
  {
   "cell_type": "code",
   "execution_count": null,
   "id": "d39bca3d",
   "metadata": {},
   "outputs": [],
   "source": []
  }
 ],
 "metadata": {
  "kernelspec": {
   "display_name": "Python 3 (ipykernel)",
   "language": "python",
   "name": "python3"
  },
  "language_info": {
   "codemirror_mode": {
    "name": "ipython",
    "version": 3
   },
   "file_extension": ".py",
   "mimetype": "text/x-python",
   "name": "python",
   "nbconvert_exporter": "python",
   "pygments_lexer": "ipython3",
   "version": "3.11.5"
  }
 },
 "nbformat": 4,
 "nbformat_minor": 5
}
