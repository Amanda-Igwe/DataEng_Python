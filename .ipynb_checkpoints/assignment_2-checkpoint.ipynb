{
 "cells": [
  {
   "cell_type": "markdown",
   "id": "b8b08fb5",
   "metadata": {},
   "source": [
    "## Assignment 2"
   ]
  },
  {
   "cell_type": "code",
   "execution_count": 11,
   "id": "5b941c31",
   "metadata": {},
   "outputs": [],
   "source": [
    "# create a variable and assign a range\n",
    "\n",
    "few_number = range(25, 106)"
   ]
  },
  {
   "cell_type": "code",
   "execution_count": 12,
   "id": "ce8b5b8c",
   "metadata": {},
   "outputs": [
    {
     "name": "stdout",
     "output_type": "stream",
     "text": [
      "[25, 26, 27, 28, 29, 30, 31, 32, 33, 34, 35, 36, 37, 38, 39, 40, 41, 42, 43, 44, 45, 46, 47, 48, 49, 50, 51, 52, 53, 54, 55, 56, 57, 58, 59, 60, 61, 62, 63, 64, 65, 66, 67, 68, 69, 70, 71, 72, 73, 74, 75, 76, 77, 78, 79, 80, 81, 82, 83, 84, 85, 86, 87, 88, 89, 90, 91, 92, 93, 94, 95, 96, 97, 98, 99, 100, 101, 102, 103, 104, 105]\n"
     ]
    }
   ],
   "source": [
    "# print the list of range\n",
    "\n",
    "print(list(few_number))"
   ]
  },
  {
   "cell_type": "code",
   "execution_count": 13,
   "id": "ec9bdfe5",
   "metadata": {},
   "outputs": [
    {
     "name": "stdout",
     "output_type": "stream",
     "text": [
      "81\n"
     ]
    }
   ],
   "source": [
    "# Count the total number of elements in the variable few_number\n",
    "\n",
    "print(len(few_number))"
   ]
  },
  {
   "cell_type": "code",
   "execution_count": 14,
   "id": "2fb41698",
   "metadata": {},
   "outputs": [
    {
     "name": "stdout",
     "output_type": "stream",
     "text": [
      "105\n"
     ]
    }
   ],
   "source": [
    "# Retrieve the last elements in the list\n",
    "\n",
    "print(few_number[-1])"
   ]
  },
  {
   "cell_type": "code",
   "execution_count": 15,
   "id": "5d3b4bf2",
   "metadata": {},
   "outputs": [],
   "source": [
    "# sort the elements in descending order\n",
    "\n",
    "few_number_sorted = sorted(list(few_number), reverse=True)"
   ]
  },
  {
   "cell_type": "code",
   "execution_count": 16,
   "id": "bb897d99",
   "metadata": {},
   "outputs": [
    {
     "name": "stdout",
     "output_type": "stream",
     "text": [
      "[105, 104, 103, 102, 101, 100, 99, 98, 97, 96, 95, 94, 93, 92, 91, 90, 89, 88, 87, 86, 85, 84, 83, 82, 81, 80, 79, 78, 77, 76, 75, 74, 73, 72, 71, 70, 69, 68, 67, 66, 65, 64, 63, 62, 61, 60, 59, 58, 57, 56, 55, 54, 53, 52, 51, 50, 49, 48, 47, 46, 45, 44, 43, 42, 41, 40, 39, 38, 37, 36, 35, 34, 33, 32, 31, 30, 29, 28, 27, 26, 25]\n"
     ]
    }
   ],
   "source": [
    "# print the variable few_number_sorted in desc order\n",
    "\n",
    "print(few_number_sorted)"
   ]
  },
  {
   "cell_type": "code",
   "execution_count": 17,
   "id": "9eedc896",
   "metadata": {},
   "outputs": [
    {
     "name": "stdout",
     "output_type": "stream",
     "text": [
      "25\n"
     ]
    }
   ],
   "source": [
    "# retrieving the last number in the variable few_number_sorted\n",
    "\n",
    "print(few_number_sorted[-1])"
   ]
  },
  {
   "cell_type": "markdown",
   "id": "5fa124d1",
   "metadata": {},
   "source": [
    "#### Solution 2"
   ]
  },
  {
   "cell_type": "code",
   "execution_count": 31,
   "id": "9522f02b",
   "metadata": {},
   "outputs": [],
   "source": [
    "# create an empty list called data_engineers\n",
    "\n",
    "data_engineers = []"
   ]
  },
  {
   "cell_type": "code",
   "execution_count": 44,
   "id": "14e8040d",
   "metadata": {},
   "outputs": [],
   "source": [
    "# add all the names of everyone in data engineering hub\n",
    "data_engineers.append(\"Amanda\")"
   ]
  },
  {
   "cell_type": "code",
   "execution_count": 33,
   "id": "c1f2391b",
   "metadata": {},
   "outputs": [
    {
     "name": "stdout",
     "output_type": "stream",
     "text": [
      "['Amanda']\n"
     ]
    }
   ],
   "source": [
    "print(data_engineers)"
   ]
  },
  {
   "cell_type": "code",
   "execution_count": 34,
   "id": "b300ba8b",
   "metadata": {},
   "outputs": [],
   "source": [
    "data_engineers.append(\"Chinyere\")"
   ]
  },
  {
   "cell_type": "code",
   "execution_count": 35,
   "id": "93f704b8",
   "metadata": {},
   "outputs": [
    {
     "name": "stdout",
     "output_type": "stream",
     "text": [
      "['Amanda', 'Chinyere']\n"
     ]
    }
   ],
   "source": [
    "print(data_engineers)"
   ]
  },
  {
   "cell_type": "code",
   "execution_count": 36,
   "id": "9c168b96",
   "metadata": {},
   "outputs": [],
   "source": [
    "data_engineers.append(\"Yinka\")"
   ]
  },
  {
   "cell_type": "code",
   "execution_count": 37,
   "id": "62fa95d2",
   "metadata": {},
   "outputs": [
    {
     "name": "stdout",
     "output_type": "stream",
     "text": [
      "['Amanda', 'Chinyere', 'Yinka']\n"
     ]
    }
   ],
   "source": [
    "print(data_engineers)"
   ]
  },
  {
   "cell_type": "code",
   "execution_count": 38,
   "id": "f935434f",
   "metadata": {},
   "outputs": [],
   "source": [
    "data_engineers.append(\"Mayowa\")"
   ]
  },
  {
   "cell_type": "code",
   "execution_count": 39,
   "id": "d28d1f61",
   "metadata": {},
   "outputs": [
    {
     "name": "stdout",
     "output_type": "stream",
     "text": [
      "['Amanda', 'Chinyere', 'Yinka', 'Mayowa']\n"
     ]
    }
   ],
   "source": [
    "print(data_engineers)"
   ]
  },
  {
   "cell_type": "code",
   "execution_count": 40,
   "id": "20e2bbfd",
   "metadata": {},
   "outputs": [],
   "source": [
    "data_engineers.append(\"Chukwujekwu\")"
   ]
  },
  {
   "cell_type": "code",
   "execution_count": 41,
   "id": "acf76d08",
   "metadata": {},
   "outputs": [
    {
     "name": "stdout",
     "output_type": "stream",
     "text": [
      "['Amanda', 'Chinyere', 'Yinka', 'Mayowa', 'Chukwujekwu']\n"
     ]
    }
   ],
   "source": [
    "print(data_engineers)"
   ]
  },
  {
   "cell_type": "code",
   "execution_count": 42,
   "id": "26cf6d53",
   "metadata": {},
   "outputs": [],
   "source": [
    "data_engineers.append(\"Joachim\")"
   ]
  },
  {
   "cell_type": "code",
   "execution_count": 43,
   "id": "a852ce26",
   "metadata": {},
   "outputs": [
    {
     "name": "stdout",
     "output_type": "stream",
     "text": [
      "['Amanda', 'Chinyere', 'Yinka', 'Mayowa', 'Chukwujekwu', 'Joachim']\n"
     ]
    }
   ],
   "source": [
    "print(data_engineers)"
   ]
  },
  {
   "cell_type": "code",
   "execution_count": 57,
   "id": "6f826f4b",
   "metadata": {},
   "outputs": [],
   "source": [
    "# sort the names in ascending order\n",
    "\n",
    "data_engineers_sorted = sorted(list(data_engineers), reverse = False)"
   ]
  },
  {
   "cell_type": "code",
   "execution_count": 58,
   "id": "5bdeb4fa",
   "metadata": {},
   "outputs": [
    {
     "name": "stdout",
     "output_type": "stream",
     "text": [
      "['Amanda', 'Amanda', 'Chinyere', 'Chukwujekwu', 'Joachim', 'Mayowa', 'Yinka']\n"
     ]
    }
   ],
   "source": [
    "print(data_engineers_sorted)"
   ]
  },
  {
   "cell_type": "code",
   "execution_count": 60,
   "id": "645ff349",
   "metadata": {},
   "outputs": [],
   "source": [
    "# replace the last element with the name Caleb\n",
    "\n",
    "data_engineers_sorted[-1] = (\"Caleb\")"
   ]
  },
  {
   "cell_type": "code",
   "execution_count": 61,
   "id": "a776fe12",
   "metadata": {},
   "outputs": [
    {
     "name": "stdout",
     "output_type": "stream",
     "text": [
      "['Amanda', 'Amanda', 'Chinyere', 'Chukwujekwu', 'Joachim', 'Mayowa', 'Caleb']\n"
     ]
    }
   ],
   "source": [
    "print(data_engineers_sorted)"
   ]
  },
  {
   "cell_type": "code",
   "execution_count": 62,
   "id": "558faf27",
   "metadata": {},
   "outputs": [],
   "source": [
    "# a variable called subset_names to retrieve 3 elements\n",
    "\n",
    "subset_names = data_engineers_sorted[0:3]"
   ]
  },
  {
   "cell_type": "code",
   "execution_count": 63,
   "id": "13833542",
   "metadata": {},
   "outputs": [
    {
     "name": "stdout",
     "output_type": "stream",
     "text": [
      "['Amanda', 'Amanda', 'Chinyere']\n"
     ]
    }
   ],
   "source": [
    "print(subset_names)"
   ]
  },
  {
   "cell_type": "markdown",
   "id": "8f238a49",
   "metadata": {},
   "source": [
    "### solution 3"
   ]
  },
  {
   "cell_type": "code",
   "execution_count": 64,
   "id": "04668bbe",
   "metadata": {},
   "outputs": [],
   "source": [
    "#create a variable called price and assign a value 100\n",
    "\n",
    "price = 100"
   ]
  },
  {
   "cell_type": "code",
   "execution_count": 65,
   "id": "ea968456",
   "metadata": {},
   "outputs": [
    {
     "name": "stdout",
     "output_type": "stream",
     "text": [
      "The price of the milk is $100\n"
     ]
    }
   ],
   "source": [
    "# string interpolation\n",
    "\n",
    "print(f\"The price of the milk is ${price}\")"
   ]
  },
  {
   "cell_type": "code",
   "execution_count": 3,
   "id": "edbc57cd",
   "metadata": {},
   "outputs": [],
   "source": [
    "# create any two random string and assign them to their variables\n",
    "\n",
    "name = \"Amanda \""
   ]
  },
  {
   "cell_type": "code",
   "execution_count": 4,
   "id": "b623aec1",
   "metadata": {},
   "outputs": [],
   "source": [
    "Gender = \" female\""
   ]
  },
  {
   "cell_type": "code",
   "execution_count": 8,
   "id": "44e772c2",
   "metadata": {},
   "outputs": [],
   "source": [
    "# concatenate and assign to variable called concatenate_strings\n",
    "\n",
    "concatenated_strings = name + Gender "
   ]
  },
  {
   "cell_type": "code",
   "execution_count": 9,
   "id": "3df7f3d8",
   "metadata": {},
   "outputs": [
    {
     "name": "stdout",
     "output_type": "stream",
     "text": [
      "Amanda  female\n"
     ]
    }
   ],
   "source": [
    "# print the new variable\n",
    "\n",
    "print(concatenated_strings)"
   ]
  },
  {
   "cell_type": "code",
   "execution_count": 10,
   "id": "034c1c2b",
   "metadata": {},
   "outputs": [
    {
     "name": "stdout",
     "output_type": "stream",
     "text": [
      "14\n"
     ]
    }
   ],
   "source": [
    "# prit total character \n",
    "\n",
    "print(len(concatenated_strings))"
   ]
  },
  {
   "cell_type": "code",
   "execution_count": null,
   "id": "3309e78f",
   "metadata": {},
   "outputs": [],
   "source": []
  }
 ],
 "metadata": {
  "kernelspec": {
   "display_name": "Python 3 (ipykernel)",
   "language": "python",
   "name": "python3"
  },
  "language_info": {
   "codemirror_mode": {
    "name": "ipython",
    "version": 3
   },
   "file_extension": ".py",
   "mimetype": "text/x-python",
   "name": "python",
   "nbconvert_exporter": "python",
   "pygments_lexer": "ipython3",
   "version": "3.11.5"
  }
 },
 "nbformat": 4,
 "nbformat_minor": 5
}
