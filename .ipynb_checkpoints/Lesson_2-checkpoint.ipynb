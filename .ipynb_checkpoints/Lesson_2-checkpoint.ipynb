{
 "cells": [
  {
   "cell_type": "markdown",
   "id": "996bb6fd",
   "metadata": {},
   "source": [
    "## PYTHON DATA STRUCTURES"
   ]
  },
  {
   "cell_type": "markdown",
   "id": "d02ee185",
   "metadata": {},
   "source": [
    "##### . List\n",
    "##### . Dictionary\n",
    "##### . Tuple\n",
    "##### . Set"
   ]
  },
  {
   "cell_type": "markdown",
   "id": "35c5e114",
   "metadata": {},
   "source": [
    "#### List"
   ]
  },
  {
   "cell_type": "code",
   "execution_count": 5,
   "id": "5639bfa4",
   "metadata": {},
   "outputs": [],
   "source": [
    "students = [\"mayowa\", \"chukwu\", \"yinka\", \"amanda\", \"chinyere\", \"Joachim\"]"
   ]
  },
  {
   "cell_type": "code",
   "execution_count": 6,
   "id": "b546ab40",
   "metadata": {},
   "outputs": [
    {
     "name": "stdout",
     "output_type": "stream",
     "text": [
      "['mayowa', 'chukwu', 'yinka', 'amanda', 'chinyere', 'Joachim']\n"
     ]
    }
   ],
   "source": [
    "print(students)"
   ]
  },
  {
   "cell_type": "code",
   "execution_count": 7,
   "id": "23b72bf9",
   "metadata": {},
   "outputs": [
    {
     "name": "stdout",
     "output_type": "stream",
     "text": [
      "<class 'list'>\n"
     ]
    }
   ],
   "source": [
    "print(type(students))"
   ]
  },
  {
   "cell_type": "code",
   "execution_count": 8,
   "id": "3d863390",
   "metadata": {},
   "outputs": [],
   "source": [
    "age = [23, 12, 19, 45, 35, 5]"
   ]
  },
  {
   "cell_type": "code",
   "execution_count": 9,
   "id": "ef60878f",
   "metadata": {},
   "outputs": [
    {
     "name": "stdout",
     "output_type": "stream",
     "text": [
      "[23, 12, 19, 45, 35, 5]\n"
     ]
    }
   ],
   "source": [
    "print(age)"
   ]
  },
  {
   "cell_type": "code",
   "execution_count": 10,
   "id": "f578a481",
   "metadata": {},
   "outputs": [
    {
     "name": "stdout",
     "output_type": "stream",
     "text": [
      "<class 'list'>\n"
     ]
    }
   ],
   "source": [
    "print(type(age))"
   ]
  },
  {
   "cell_type": "code",
   "execution_count": 11,
   "id": "d904cd83",
   "metadata": {},
   "outputs": [],
   "source": [
    "mayowa_info = [\"mayowa\", 13, \"Data Engineer\", True, 5.8]"
   ]
  },
  {
   "cell_type": "code",
   "execution_count": 12,
   "id": "451451ba",
   "metadata": {},
   "outputs": [
    {
     "name": "stdout",
     "output_type": "stream",
     "text": [
      "<class 'list'>\n"
     ]
    }
   ],
   "source": [
    "print(type(mayowa_info))"
   ]
  },
  {
   "cell_type": "markdown",
   "id": "ca4243a3",
   "metadata": {},
   "source": [
    "###### indexing / positioning"
   ]
  },
  {
   "cell_type": "markdown",
   "id": "20ab7a8f",
   "metadata": {},
   "source": [
    "M A Y O W A \n",
    "\n",
    "1 2 3 4 5 6      # human numbering\n",
    "\n",
    "0 1 2 3 4 5       # python numbering"
   ]
  },
  {
   "cell_type": "code",
   "execution_count": 14,
   "id": "7a9b6f6c",
   "metadata": {},
   "outputs": [],
   "source": [
    "# items in a list is called element\n",
    "\n",
    "cars = [\"toyota\", \"bmw\", \"benz\", \"honda\"]"
   ]
  },
  {
   "cell_type": "code",
   "execution_count": 15,
   "id": "99b54189",
   "metadata": {},
   "outputs": [
    {
     "name": "stdout",
     "output_type": "stream",
     "text": [
      "bmw\n"
     ]
    }
   ],
   "source": [
    "print(cars[1])"
   ]
  },
  {
   "cell_type": "code",
   "execution_count": 16,
   "id": "2da47459",
   "metadata": {},
   "outputs": [
    {
     "name": "stdout",
     "output_type": "stream",
     "text": [
      "benz\n"
     ]
    }
   ],
   "source": [
    "print(cars[2])"
   ]
  },
  {
   "cell_type": "code",
   "execution_count": 17,
   "id": "359ada6c",
   "metadata": {},
   "outputs": [
    {
     "name": "stdout",
     "output_type": "stream",
     "text": [
      "honda\n"
     ]
    }
   ],
   "source": [
    "print(cars[3])"
   ]
  },
  {
   "cell_type": "code",
   "execution_count": 19,
   "id": "431f6969",
   "metadata": {},
   "outputs": [
    {
     "name": "stdout",
     "output_type": "stream",
     "text": [
      "toyota\n"
     ]
    }
   ],
   "source": [
    "print(cars[0])"
   ]
  },
  {
   "cell_type": "code",
   "execution_count": 21,
   "id": "590dd134",
   "metadata": {},
   "outputs": [
    {
     "ename": "IndexError",
     "evalue": "list index out of range",
     "output_type": "error",
     "traceback": [
      "\u001b[1;31m---------------------------------------------------------------------------\u001b[0m",
      "\u001b[1;31mIndexError\u001b[0m                                Traceback (most recent call last)",
      "Cell \u001b[1;32mIn[21], line 3\u001b[0m\n\u001b[0;32m      1\u001b[0m \u001b[38;5;66;03m# obviously failed due to list doesnt have index/position 4\u001b[39;00m\n\u001b[1;32m----> 3\u001b[0m \u001b[38;5;28mprint\u001b[39m(cars[\u001b[38;5;241m4\u001b[39m])\n",
      "\u001b[1;31mIndexError\u001b[0m: list index out of range"
     ]
    }
   ],
   "source": [
    "# obviously failed due to list doesnt have index/position 4\n",
    "\n",
    "print(cars[4])"
   ]
  },
  {
   "cell_type": "code",
   "execution_count": 22,
   "id": "dc3d2eec",
   "metadata": {},
   "outputs": [],
   "source": [
    "cars = [\"toyota\", \"bmw\", \"benz\", \"honda\"]"
   ]
  },
  {
   "cell_type": "code",
   "execution_count": 23,
   "id": "1356b349",
   "metadata": {},
   "outputs": [
    {
     "name": "stdout",
     "output_type": "stream",
     "text": [
      "honda\n"
     ]
    }
   ],
   "source": [
    "print(cars[-1])"
   ]
  },
  {
   "cell_type": "code",
   "execution_count": 24,
   "id": "d769e7b0",
   "metadata": {},
   "outputs": [
    {
     "name": "stdout",
     "output_type": "stream",
     "text": [
      "4\n"
     ]
    }
   ],
   "source": [
    "print(len(cars))"
   ]
  },
  {
   "cell_type": "code",
   "execution_count": 25,
   "id": "14ff5959",
   "metadata": {},
   "outputs": [],
   "source": [
    "name = \"mayowa\""
   ]
  },
  {
   "cell_type": "code",
   "execution_count": 26,
   "id": "b34fa76e",
   "metadata": {},
   "outputs": [
    {
     "name": "stdout",
     "output_type": "stream",
     "text": [
      "6\n"
     ]
    }
   ],
   "source": [
    "print(len(name))"
   ]
  },
  {
   "cell_type": "code",
   "execution_count": 27,
   "id": "27fc24ba",
   "metadata": {},
   "outputs": [],
   "source": [
    "age = 45"
   ]
  },
  {
   "cell_type": "code",
   "execution_count": 28,
   "id": "f4be35b3",
   "metadata": {},
   "outputs": [
    {
     "ename": "TypeError",
     "evalue": "object of type 'int' has no len()",
     "output_type": "error",
     "traceback": [
      "\u001b[1;31m---------------------------------------------------------------------------\u001b[0m",
      "\u001b[1;31mTypeError\u001b[0m                                 Traceback (most recent call last)",
      "Cell \u001b[1;32mIn[28], line 1\u001b[0m\n\u001b[1;32m----> 1\u001b[0m \u001b[38;5;28mprint\u001b[39m(\u001b[38;5;28mlen\u001b[39m(age))\n",
      "\u001b[1;31mTypeError\u001b[0m: object of type 'int' has no len()"
     ]
    }
   ],
   "source": [
    "print(len(age))"
   ]
  },
  {
   "cell_type": "code",
   "execution_count": 29,
   "id": "787c691f",
   "metadata": {},
   "outputs": [],
   "source": [
    "bad_age_definition = \"45\""
   ]
  },
  {
   "cell_type": "code",
   "execution_count": 30,
   "id": "74171d8d",
   "metadata": {},
   "outputs": [
    {
     "name": "stdout",
     "output_type": "stream",
     "text": [
      "2\n"
     ]
    }
   ],
   "source": [
    "print(len(bad_age_definition))"
   ]
  },
  {
   "cell_type": "code",
   "execution_count": 31,
   "id": "9a248f5b",
   "metadata": {},
   "outputs": [],
   "source": [
    "lst = [\" \", \"25\", 38,\"yellow\"]"
   ]
  },
  {
   "cell_type": "code",
   "execution_count": 32,
   "id": "339c5412",
   "metadata": {},
   "outputs": [
    {
     "name": "stdout",
     "output_type": "stream",
     "text": [
      " \n"
     ]
    }
   ],
   "source": [
    "print(lst[0])"
   ]
  },
  {
   "cell_type": "markdown",
   "id": "17095a9b",
   "metadata": {},
   "source": [
    "### slicing"
   ]
  },
  {
   "cell_type": "code",
   "execution_count": 1,
   "id": "938b2087",
   "metadata": {},
   "outputs": [],
   "source": [
    "random_list = [1, 2, 5, 10, 2]"
   ]
  },
  {
   "cell_type": "code",
   "execution_count": 4,
   "id": "e2096378",
   "metadata": {},
   "outputs": [
    {
     "name": "stdout",
     "output_type": "stream",
     "text": [
      "[1, 2, 5]\n"
     ]
    }
   ],
   "source": [
    "print(random_list[0:3])"
   ]
  },
  {
   "cell_type": "code",
   "execution_count": 5,
   "id": "e13d4ef0",
   "metadata": {},
   "outputs": [
    {
     "name": "stdout",
     "output_type": "stream",
     "text": [
      "[1, 2, 5]\n"
     ]
    }
   ],
   "source": [
    "print(random_list[:3])"
   ]
  },
  {
   "cell_type": "code",
   "execution_count": 6,
   "id": "3b5bb9a7",
   "metadata": {},
   "outputs": [
    {
     "name": "stdout",
     "output_type": "stream",
     "text": [
      "[2, 5, 10]\n"
     ]
    }
   ],
   "source": [
    "print(random_list[1:4])"
   ]
  },
  {
   "cell_type": "code",
   "execution_count": 7,
   "id": "22636fef",
   "metadata": {},
   "outputs": [
    {
     "name": "stdout",
     "output_type": "stream",
     "text": [
      "[5, 10, 2]\n"
     ]
    }
   ],
   "source": [
    "print(random_list[2:])"
   ]
  },
  {
   "cell_type": "code",
   "execution_count": 8,
   "id": "08b4c14f",
   "metadata": {},
   "outputs": [],
   "source": [
    "name = \"Chinyere the boss lady\""
   ]
  },
  {
   "cell_type": "code",
   "execution_count": 9,
   "id": "fa06d2d8",
   "metadata": {},
   "outputs": [
    {
     "name": "stdout",
     "output_type": "stream",
     "text": [
      "22\n"
     ]
    }
   ],
   "source": [
    "print(len(name))"
   ]
  },
  {
   "cell_type": "code",
   "execution_count": 10,
   "id": "a6534c3c",
   "metadata": {},
   "outputs": [
    {
     "name": "stdout",
     "output_type": "stream",
     "text": [
      "Chinyere\n"
     ]
    }
   ],
   "source": [
    "print(name[0:8])"
   ]
  },
  {
   "cell_type": "markdown",
   "id": "e1d97ceb",
   "metadata": {},
   "source": [
    "#### Element Changing"
   ]
  },
  {
   "cell_type": "code",
   "execution_count": 11,
   "id": "26d38394",
   "metadata": {},
   "outputs": [],
   "source": [
    "num = [1, 4, 2]"
   ]
  },
  {
   "cell_type": "code",
   "execution_count": 12,
   "id": "00276aea",
   "metadata": {},
   "outputs": [],
   "source": [
    "num[0] = 10"
   ]
  },
  {
   "cell_type": "code",
   "execution_count": 13,
   "id": "31b92387",
   "metadata": {},
   "outputs": [
    {
     "name": "stdout",
     "output_type": "stream",
     "text": [
      "[10, 4, 2]\n"
     ]
    }
   ],
   "source": [
    "print(num)"
   ]
  },
  {
   "cell_type": "code",
   "execution_count": 14,
   "id": "99c295ee",
   "metadata": {},
   "outputs": [],
   "source": [
    "num[-1] = 20"
   ]
  },
  {
   "cell_type": "code",
   "execution_count": 15,
   "id": "24ddb37f",
   "metadata": {},
   "outputs": [
    {
     "name": "stdout",
     "output_type": "stream",
     "text": [
      "[10, 4, 20]\n"
     ]
    }
   ],
   "source": [
    "print(num)"
   ]
  },
  {
   "cell_type": "markdown",
   "id": "c35e6607",
   "metadata": {},
   "source": [
    "#### adding elements"
   ]
  },
  {
   "cell_type": "code",
   "execution_count": 16,
   "id": "39d1c4db",
   "metadata": {},
   "outputs": [],
   "source": [
    "fruits = [\"pineapple\", \"apple\", \"banana\"]"
   ]
  },
  {
   "cell_type": "code",
   "execution_count": 17,
   "id": "40c3d7a7",
   "metadata": {},
   "outputs": [],
   "source": [
    "fruits.append(\"cherry\")"
   ]
  },
  {
   "cell_type": "code",
   "execution_count": 18,
   "id": "e6ba89f2",
   "metadata": {},
   "outputs": [
    {
     "name": "stdout",
     "output_type": "stream",
     "text": [
      "['pineapple', 'apple', 'banana', 'cherry']\n"
     ]
    }
   ],
   "source": [
    "print(fruits)"
   ]
  },
  {
   "cell_type": "code",
   "execution_count": 19,
   "id": "fe999254",
   "metadata": {},
   "outputs": [],
   "source": [
    "cart = []"
   ]
  },
  {
   "cell_type": "code",
   "execution_count": 20,
   "id": "79c64b96",
   "metadata": {},
   "outputs": [],
   "source": [
    "cart.append(\"SHINY LEATHER JACKET\")"
   ]
  },
  {
   "cell_type": "code",
   "execution_count": 21,
   "id": "bda85c66",
   "metadata": {},
   "outputs": [
    {
     "name": "stdout",
     "output_type": "stream",
     "text": [
      "['SHINY LEATHER JACKET']\n"
     ]
    }
   ],
   "source": [
    "print(cart)"
   ]
  },
  {
   "cell_type": "code",
   "execution_count": 22,
   "id": "20f021e8",
   "metadata": {},
   "outputs": [
    {
     "ename": "TypeError",
     "evalue": "list.append() takes exactly one argument (2 given)",
     "output_type": "error",
     "traceback": [
      "\u001b[1;31m---------------------------------------------------------------------------\u001b[0m",
      "\u001b[1;31mTypeError\u001b[0m                                 Traceback (most recent call last)",
      "Cell \u001b[1;32mIn[22], line 1\u001b[0m\n\u001b[1;32m----> 1\u001b[0m cart\u001b[38;5;241m.\u001b[39mappend(\u001b[38;5;124m\"\u001b[39m\u001b[38;5;124mjacket\u001b[39m\u001b[38;5;124m\"\u001b[39m, \u001b[38;5;124m\"\u001b[39m\u001b[38;5;124mshirt\u001b[39m\u001b[38;5;124m\"\u001b[39m)\n",
      "\u001b[1;31mTypeError\u001b[0m: list.append() takes exactly one argument (2 given)"
     ]
    }
   ],
   "source": [
    "cart.append(\"jacket\", \"shirt\")"
   ]
  },
  {
   "cell_type": "code",
   "execution_count": 23,
   "id": "12edc56a",
   "metadata": {},
   "outputs": [
    {
     "name": "stdout",
     "output_type": "stream",
     "text": [
      "['SHINY LEATHER JACKET']\n"
     ]
    }
   ],
   "source": [
    "print(cart)"
   ]
  },
  {
   "cell_type": "code",
   "execution_count": 24,
   "id": "0004166c",
   "metadata": {},
   "outputs": [],
   "source": [
    "cars = [\"bmw\", \"benz\"]"
   ]
  },
  {
   "cell_type": "code",
   "execution_count": 25,
   "id": "3e273ea0",
   "metadata": {},
   "outputs": [],
   "source": [
    "cars.remove(\"benz\")"
   ]
  },
  {
   "cell_type": "code",
   "execution_count": 26,
   "id": "bb2c3d08",
   "metadata": {},
   "outputs": [
    {
     "name": "stdout",
     "output_type": "stream",
     "text": [
      "['bmw']\n"
     ]
    }
   ],
   "source": [
    "print(cars)"
   ]
  },
  {
   "cell_type": "code",
   "execution_count": 27,
   "id": "ce68ba3f",
   "metadata": {},
   "outputs": [
    {
     "ename": "ValueError",
     "evalue": "list.remove(x): x not in list",
     "output_type": "error",
     "traceback": [
      "\u001b[1;31m---------------------------------------------------------------------------\u001b[0m",
      "\u001b[1;31mValueError\u001b[0m                                Traceback (most recent call last)",
      "Cell \u001b[1;32mIn[27], line 1\u001b[0m\n\u001b[1;32m----> 1\u001b[0m cars\u001b[38;5;241m.\u001b[39mremove(\u001b[38;5;124m\"\u001b[39m\u001b[38;5;124mamanda\u001b[39m\u001b[38;5;124m\"\u001b[39m)\n",
      "\u001b[1;31mValueError\u001b[0m: list.remove(x): x not in list"
     ]
    }
   ],
   "source": [
    "cars.remove(\"amanda\")"
   ]
  },
  {
   "cell_type": "markdown",
   "id": "22893dba",
   "metadata": {},
   "source": [
    "### sorting elements"
   ]
  },
  {
   "cell_type": "code",
   "execution_count": 28,
   "id": "1039aa66",
   "metadata": {},
   "outputs": [],
   "source": [
    "alphabets = [\"e\", \"b\", \"a\", \"c\", \"d\"]"
   ]
  },
  {
   "cell_type": "code",
   "execution_count": 29,
   "id": "ac8b857a",
   "metadata": {},
   "outputs": [],
   "source": [
    "alphabets.sort()"
   ]
  },
  {
   "cell_type": "code",
   "execution_count": 30,
   "id": "744b0432",
   "metadata": {},
   "outputs": [
    {
     "name": "stdout",
     "output_type": "stream",
     "text": [
      "['a', 'b', 'c', 'd', 'e']\n"
     ]
    }
   ],
   "source": [
    "print(alphabets)"
   ]
  },
  {
   "cell_type": "code",
   "execution_count": 31,
   "id": "638372bc",
   "metadata": {},
   "outputs": [],
   "source": [
    "numbers = [3, 6, 4, 8, 2, 9, 34]"
   ]
  },
  {
   "cell_type": "code",
   "execution_count": 34,
   "id": "c3798b0e",
   "metadata": {},
   "outputs": [],
   "source": [
    "numbers.sort(reverse=True)"
   ]
  },
  {
   "cell_type": "code",
   "execution_count": 35,
   "id": "503de124",
   "metadata": {},
   "outputs": [
    {
     "name": "stdout",
     "output_type": "stream",
     "text": [
      "[34, 9, 8, 6, 4, 3, 2]\n"
     ]
    }
   ],
   "source": [
    "print(numbers)"
   ]
  },
  {
   "cell_type": "code",
   "execution_count": 36,
   "id": "fa807364",
   "metadata": {},
   "outputs": [],
   "source": [
    "dates = [\"2023-12-04\", \"2023-12-01\", \"2023-12-03\", \"2023-12-02\", \"2023-12-10\"]"
   ]
  },
  {
   "cell_type": "code",
   "execution_count": 37,
   "id": "359dff21",
   "metadata": {},
   "outputs": [],
   "source": [
    "dates.sort(reverse =True)"
   ]
  },
  {
   "cell_type": "code",
   "execution_count": 38,
   "id": "4c33cd3a",
   "metadata": {},
   "outputs": [
    {
     "name": "stdout",
     "output_type": "stream",
     "text": [
      "['2023-12-10', '2023-12-04', '2023-12-03', '2023-12-02', '2023-12-01']\n"
     ]
    }
   ],
   "source": [
    "print(dates)"
   ]
  },
  {
   "cell_type": "markdown",
   "id": "405320d9",
   "metadata": {},
   "source": [
    "### Range Function"
   ]
  },
  {
   "cell_type": "code",
   "execution_count": 43,
   "id": "17af3133",
   "metadata": {},
   "outputs": [],
   "source": [
    "long_list = range(1, 101)"
   ]
  },
  {
   "cell_type": "code",
   "execution_count": 44,
   "id": "2518c347",
   "metadata": {},
   "outputs": [
    {
     "name": "stdout",
     "output_type": "stream",
     "text": [
      "range(1, 101)\n"
     ]
    }
   ],
   "source": [
    "print(long_list)"
   ]
  },
  {
   "cell_type": "code",
   "execution_count": 45,
   "id": "99b218e9",
   "metadata": {},
   "outputs": [
    {
     "name": "stdout",
     "output_type": "stream",
     "text": [
      "[1, 2, 3, 4, 5, 6, 7, 8, 9, 10, 11, 12, 13, 14, 15, 16, 17, 18, 19, 20, 21, 22, 23, 24, 25, 26, 27, 28, 29, 30, 31, 32, 33, 34, 35, 36, 37, 38, 39, 40, 41, 42, 43, 44, 45, 46, 47, 48, 49, 50, 51, 52, 53, 54, 55, 56, 57, 58, 59, 60, 61, 62, 63, 64, 65, 66, 67, 68, 69, 70, 71, 72, 73, 74, 75, 76, 77, 78, 79, 80, 81, 82, 83, 84, 85, 86, 87, 88, 89, 90, 91, 92, 93, 94, 95, 96, 97, 98, 99, 100]\n"
     ]
    }
   ],
   "source": [
    "print(list(long_list))"
   ]
  },
  {
   "cell_type": "code",
   "execution_count": 46,
   "id": "279318a8",
   "metadata": {},
   "outputs": [],
   "source": [
    "short_list = range(5, 20)"
   ]
  },
  {
   "cell_type": "code",
   "execution_count": 47,
   "id": "a2005fd5",
   "metadata": {},
   "outputs": [
    {
     "name": "stdout",
     "output_type": "stream",
     "text": [
      "[5, 6, 7, 8, 9, 10, 11, 12, 13, 14, 15, 16, 17, 18, 19]\n"
     ]
    }
   ],
   "source": [
    "print(list(short_list))"
   ]
  },
  {
   "cell_type": "markdown",
   "id": "767ddf93",
   "metadata": {},
   "source": [
    "### Dictionary"
   ]
  },
  {
   "cell_type": "code",
   "execution_count": 1,
   "id": "8bfb1c68",
   "metadata": {},
   "outputs": [],
   "source": [
    "basic_dict = {\"name\" : \"mayowa\"}"
   ]
  },
  {
   "cell_type": "code",
   "execution_count": 2,
   "id": "fa82b9cc",
   "metadata": {},
   "outputs": [],
   "source": [
    "mayor_data = {\"name\": \"mayowa\", \"age\":12, \"is_married\": True, \"job\": \"Data Engineer\"}"
   ]
  },
  {
   "cell_type": "code",
   "execution_count": 3,
   "id": "fea8bd30",
   "metadata": {},
   "outputs": [
    {
     "name": "stdout",
     "output_type": "stream",
     "text": [
      "{'name': 'mayowa', 'age': 12, 'is_married': True, 'job': 'Data Engineer'}\n"
     ]
    }
   ],
   "source": [
    "print(mayor_data)"
   ]
  },
  {
   "cell_type": "code",
   "execution_count": 4,
   "id": "33600ece",
   "metadata": {},
   "outputs": [
    {
     "name": "stdout",
     "output_type": "stream",
     "text": [
      "<class 'dict'>\n"
     ]
    }
   ],
   "source": [
    "print(type(mayor_data))"
   ]
  },
  {
   "cell_type": "markdown",
   "id": "8d4a705c",
   "metadata": {},
   "source": [
    "### Retrieving Dictionary Values"
   ]
  },
  {
   "cell_type": "code",
   "execution_count": 5,
   "id": "450b66fa",
   "metadata": {},
   "outputs": [
    {
     "name": "stdout",
     "output_type": "stream",
     "text": [
      "12\n"
     ]
    }
   ],
   "source": [
    "print(mayor_data[\"age\"])"
   ]
  },
  {
   "cell_type": "code",
   "execution_count": 6,
   "id": "ab476e7c",
   "metadata": {},
   "outputs": [
    {
     "name": "stdout",
     "output_type": "stream",
     "text": [
      "Data Engineer\n"
     ]
    }
   ],
   "source": [
    "print(mayor_data[\"job\"])"
   ]
  },
  {
   "cell_type": "code",
   "execution_count": 7,
   "id": "fdf3677f",
   "metadata": {},
   "outputs": [
    {
     "name": "stdout",
     "output_type": "stream",
     "text": [
      "mayowa\n"
     ]
    }
   ],
   "source": [
    "print(mayor_data[\"name\"])"
   ]
  },
  {
   "cell_type": "code",
   "execution_count": 8,
   "id": "af9a15ee",
   "metadata": {},
   "outputs": [
    {
     "name": "stdout",
     "output_type": "stream",
     "text": [
      "<class 'str'>\n"
     ]
    }
   ],
   "source": [
    "print(type(mayor_data[\"name\"]))"
   ]
  },
  {
   "cell_type": "code",
   "execution_count": 9,
   "id": "e8091e08",
   "metadata": {},
   "outputs": [
    {
     "name": "stdout",
     "output_type": "stream",
     "text": [
      "my name is mayowa, i am 12 years old, it is true that I am married and I work as a Data Engineer\n"
     ]
    }
   ],
   "source": [
    "print(\"my name is mayowa, i am 12 years old, it is true that I am married and I work as a Data Engineer\")"
   ]
  },
  {
   "cell_type": "code",
   "execution_count": 10,
   "id": "4acbc499",
   "metadata": {},
   "outputs": [
    {
     "name": "stdout",
     "output_type": "stream",
     "text": [
      "My name is mayowa, I am 12 years old, it is True that I am married and I work as a Data Engineer\n"
     ]
    }
   ],
   "source": [
    "# using string interpolation\n",
    "\n",
    "print(f\"My name is {mayor_data['name']}, I am {mayor_data['age']} years old, it is {mayor_data['is_married']} that I am married and I work as a {mayor_data['job']}\")"
   ]
  },
  {
   "cell_type": "code",
   "execution_count": 11,
   "id": "f5bd18b3",
   "metadata": {},
   "outputs": [],
   "source": [
    "score = {\"maths\": 24, \"english\": 40}"
   ]
  },
  {
   "cell_type": "code",
   "execution_count": 12,
   "id": "ce4ceca2",
   "metadata": {},
   "outputs": [
    {
     "name": "stdout",
     "output_type": "stream",
     "text": [
      "40\n"
     ]
    }
   ],
   "source": [
    "print(score[\"english\"])"
   ]
  },
  {
   "cell_type": "code",
   "execution_count": 13,
   "id": "b498b9d2",
   "metadata": {},
   "outputs": [
    {
     "name": "stdout",
     "output_type": "stream",
     "text": [
      "20\n"
     ]
    }
   ],
   "source": [
    "print(score[\"english\"] // 2)"
   ]
  },
  {
   "cell_type": "code",
   "execution_count": 14,
   "id": "20da9c69",
   "metadata": {},
   "outputs": [],
   "source": [
    "new_score = round(score[\"english\"] /2)"
   ]
  },
  {
   "cell_type": "code",
   "execution_count": 15,
   "id": "1a970e56",
   "metadata": {},
   "outputs": [
    {
     "name": "stdout",
     "output_type": "stream",
     "text": [
      "20\n"
     ]
    }
   ],
   "source": [
    "print(new_score)"
   ]
  },
  {
   "cell_type": "code",
   "execution_count": 16,
   "id": "a197224d",
   "metadata": {},
   "outputs": [],
   "source": [
    "score = {\"maths\": 24, \"english\" : 40}"
   ]
  },
  {
   "cell_type": "code",
   "execution_count": 17,
   "id": "220eb345",
   "metadata": {},
   "outputs": [
    {
     "name": "stdout",
     "output_type": "stream",
     "text": [
      "24\n"
     ]
    }
   ],
   "source": [
    "print(score[\"maths\"])"
   ]
  },
  {
   "cell_type": "code",
   "execution_count": 19,
   "id": "015b8974",
   "metadata": {},
   "outputs": [
    {
     "name": "stdout",
     "output_type": "stream",
     "text": [
      "24\n"
     ]
    }
   ],
   "source": [
    "print(score.get(\"maths\"))"
   ]
  },
  {
   "cell_type": "code",
   "execution_count": 20,
   "id": "12765105",
   "metadata": {},
   "outputs": [
    {
     "name": "stdout",
     "output_type": "stream",
     "text": [
      "None\n"
     ]
    }
   ],
   "source": [
    "print(score.get(\"Literature\"))"
   ]
  },
  {
   "cell_type": "code",
   "execution_count": 21,
   "id": "266d13be",
   "metadata": {},
   "outputs": [
    {
     "ename": "KeyError",
     "evalue": "'Literature'",
     "output_type": "error",
     "traceback": [
      "\u001b[1;31m---------------------------------------------------------------------------\u001b[0m",
      "\u001b[1;31mKeyError\u001b[0m                                  Traceback (most recent call last)",
      "Cell \u001b[1;32mIn[21], line 1\u001b[0m\n\u001b[1;32m----> 1\u001b[0m \u001b[38;5;28mprint\u001b[39m(score[\u001b[38;5;124m\"\u001b[39m\u001b[38;5;124mLiterature\u001b[39m\u001b[38;5;124m\"\u001b[39m])\n",
      "\u001b[1;31mKeyError\u001b[0m: 'Literature'"
     ]
    }
   ],
   "source": [
    "print(score[\"Literature\"])"
   ]
  },
  {
   "cell_type": "code",
   "execution_count": 22,
   "id": "0fbefd5c",
   "metadata": {},
   "outputs": [],
   "source": [
    "score = {\"maths\": 24, \"english\" : 40}"
   ]
  },
  {
   "cell_type": "code",
   "execution_count": 23,
   "id": "d932d2c4",
   "metadata": {},
   "outputs": [
    {
     "name": "stdout",
     "output_type": "stream",
     "text": [
      "24\n"
     ]
    }
   ],
   "source": [
    "print(score.get(\"maths\", 34))"
   ]
  },
  {
   "cell_type": "code",
   "execution_count": 24,
   "id": "1a0e0357",
   "metadata": {},
   "outputs": [],
   "source": [
    "students = {\"mayowa\" : 22, \"chinyere\": 11, \"segun\": 23}"
   ]
  },
  {
   "cell_type": "code",
   "execution_count": 25,
   "id": "ac8d27c5",
   "metadata": {},
   "outputs": [
    {
     "name": "stdout",
     "output_type": "stream",
     "text": [
      "11\n"
     ]
    }
   ],
   "source": [
    "print(students.get(\"chinyere\"))"
   ]
  },
  {
   "cell_type": "code",
   "execution_count": 26,
   "id": "f46c07cf",
   "metadata": {},
   "outputs": [
    {
     "name": "stdout",
     "output_type": "stream",
     "text": [
      "23\n"
     ]
    }
   ],
   "source": [
    "print(students.get(\"segun\"))"
   ]
  },
  {
   "cell_type": "code",
   "execution_count": 27,
   "id": "5568f042",
   "metadata": {},
   "outputs": [],
   "source": [
    "students = {\"mayowa\" : 22, \"chinyere\": 11, \"segun\": 23}"
   ]
  },
  {
   "cell_type": "code",
   "execution_count": 28,
   "id": "01891689",
   "metadata": {},
   "outputs": [
    {
     "name": "stdout",
     "output_type": "stream",
     "text": [
      "3\n"
     ]
    }
   ],
   "source": [
    "print(len(students))"
   ]
  },
  {
   "cell_type": "code",
   "execution_count": 32,
   "id": "9be4d115",
   "metadata": {},
   "outputs": [
    {
     "name": "stdout",
     "output_type": "stream",
     "text": [
      "dict_keys(['mayowa', 'chinyere', 'segun'])\n"
     ]
    }
   ],
   "source": [
    "print(students.keys())"
   ]
  },
  {
   "cell_type": "code",
   "execution_count": 33,
   "id": "35c3d4c7",
   "metadata": {},
   "outputs": [
    {
     "name": "stdout",
     "output_type": "stream",
     "text": [
      "dict_values([22, 11, 23])\n"
     ]
    }
   ],
   "source": [
    "print(students.values())"
   ]
  },
  {
   "cell_type": "code",
   "execution_count": 35,
   "id": "b990d16d",
   "metadata": {},
   "outputs": [
    {
     "name": "stdout",
     "output_type": "stream",
     "text": [
      "dict_items([('mayowa', 22), ('chinyere', 11), ('segun', 23)])\n"
     ]
    }
   ],
   "source": [
    "print(students.items())"
   ]
  },
  {
   "cell_type": "code",
   "execution_count": 36,
   "id": "c0d570fc",
   "metadata": {},
   "outputs": [],
   "source": [
    "students = {\"mayowa\" : 22, \"chinyere\": 11, \"segun\": 23}"
   ]
  },
  {
   "cell_type": "code",
   "execution_count": 38,
   "id": "abc47a50",
   "metadata": {},
   "outputs": [],
   "source": [
    "students[\"mayowa\"] = 50"
   ]
  },
  {
   "cell_type": "code",
   "execution_count": 39,
   "id": "4b05f67d",
   "metadata": {},
   "outputs": [
    {
     "name": "stdout",
     "output_type": "stream",
     "text": [
      "{'mayowa': 50, 'chinyere': 11, 'segun': 23}\n"
     ]
    }
   ],
   "source": [
    "print(students)"
   ]
  },
  {
   "cell_type": "code",
   "execution_count": 40,
   "id": "357ce7bb",
   "metadata": {},
   "outputs": [],
   "source": [
    "students[\"segun\"] = \"boy\""
   ]
  },
  {
   "cell_type": "code",
   "execution_count": 41,
   "id": "977053be",
   "metadata": {},
   "outputs": [
    {
     "name": "stdout",
     "output_type": "stream",
     "text": [
      "{'mayowa': 50, 'chinyere': 11, 'segun': 'boy'}\n"
     ]
    }
   ],
   "source": [
    "print(students)"
   ]
  },
  {
   "cell_type": "code",
   "execution_count": 42,
   "id": "900a6aa2",
   "metadata": {},
   "outputs": [],
   "source": [
    "students.update({\"chukwu\" : 24})"
   ]
  },
  {
   "cell_type": "code",
   "execution_count": 43,
   "id": "3add53b9",
   "metadata": {},
   "outputs": [
    {
     "name": "stdout",
     "output_type": "stream",
     "text": [
      "{'mayowa': 50, 'chinyere': 11, 'segun': 'boy', 'chukwu': 24}\n"
     ]
    }
   ],
   "source": [
    "print(students)"
   ]
  },
  {
   "cell_type": "code",
   "execution_count": 44,
   "id": "63b4d760",
   "metadata": {},
   "outputs": [
    {
     "data": {
      "text/plain": [
       "11"
      ]
     },
     "execution_count": 44,
     "metadata": {},
     "output_type": "execute_result"
    }
   ],
   "source": [
    "students.pop(\"chinyere\")"
   ]
  },
  {
   "cell_type": "code",
   "execution_count": 45,
   "id": "391836bd",
   "metadata": {},
   "outputs": [
    {
     "name": "stdout",
     "output_type": "stream",
     "text": [
      "{'mayowa': 50, 'segun': 'boy', 'chukwu': 24}\n"
     ]
    }
   ],
   "source": [
    "print(students)"
   ]
  },
  {
   "cell_type": "markdown",
   "id": "7d59d55c",
   "metadata": {},
   "source": [
    "### TUPLE"
   ]
  },
  {
   "cell_type": "code",
   "execution_count": 1,
   "id": "eee14c85",
   "metadata": {},
   "outputs": [],
   "source": [
    "names = (\"mayowa\" , \"segun\", \"jekwu\")"
   ]
  },
  {
   "cell_type": "code",
   "execution_count": 2,
   "id": "ff2051c8",
   "metadata": {},
   "outputs": [
    {
     "name": "stdout",
     "output_type": "stream",
     "text": [
      "<class 'tuple'>\n"
     ]
    }
   ],
   "source": [
    "print(type(names))"
   ]
  },
  {
   "cell_type": "code",
   "execution_count": 3,
   "id": "a0d514ba",
   "metadata": {},
   "outputs": [
    {
     "ename": "AttributeError",
     "evalue": "'tuple' object has no attribute 'append'",
     "output_type": "error",
     "traceback": [
      "\u001b[1;31m---------------------------------------------------------------------------\u001b[0m",
      "\u001b[1;31mAttributeError\u001b[0m                            Traceback (most recent call last)",
      "Cell \u001b[1;32mIn[3], line 1\u001b[0m\n\u001b[1;32m----> 1\u001b[0m names\u001b[38;5;241m.\u001b[39mappend(\u001b[38;5;124m\"\u001b[39m\u001b[38;5;124mchichi\u001b[39m\u001b[38;5;124m\"\u001b[39m)\n",
      "\u001b[1;31mAttributeError\u001b[0m: 'tuple' object has no attribute 'append'"
     ]
    }
   ],
   "source": [
    "names.append(\"chichi\")"
   ]
  },
  {
   "cell_type": "code",
   "execution_count": 4,
   "id": "c188f771",
   "metadata": {},
   "outputs": [],
   "source": [
    "names = (\"mayowa\" , \"segun\", \"jekwu\")"
   ]
  },
  {
   "cell_type": "code",
   "execution_count": 5,
   "id": "4ecd121e",
   "metadata": {},
   "outputs": [
    {
     "name": "stdout",
     "output_type": "stream",
     "text": [
      "mayowa\n"
     ]
    }
   ],
   "source": [
    "print(names[0])"
   ]
  },
  {
   "cell_type": "code",
   "execution_count": 12,
   "id": "2fea9fe0",
   "metadata": {},
   "outputs": [],
   "source": [
    "converted_tuple = list(names)"
   ]
  },
  {
   "cell_type": "code",
   "execution_count": 13,
   "id": "234377c8",
   "metadata": {},
   "outputs": [
    {
     "name": "stdout",
     "output_type": "stream",
     "text": [
      "['mayowa', 'segun', 'jekwu']\n"
     ]
    }
   ],
   "source": [
    "print(converted_tuple)"
   ]
  },
  {
   "cell_type": "code",
   "execution_count": 14,
   "id": "d460c0d7",
   "metadata": {},
   "outputs": [],
   "source": [
    "converted_tuple[0] = \"uche\""
   ]
  },
  {
   "cell_type": "code",
   "execution_count": 15,
   "id": "9fe98986",
   "metadata": {},
   "outputs": [
    {
     "name": "stdout",
     "output_type": "stream",
     "text": [
      "['uche', 'segun', 'jekwu']\n"
     ]
    }
   ],
   "source": [
    "print(converted_tuple)"
   ]
  },
  {
   "cell_type": "code",
   "execution_count": 16,
   "id": "8f4bd091",
   "metadata": {},
   "outputs": [
    {
     "name": "stdout",
     "output_type": "stream",
     "text": [
      "<class 'tuple'>\n"
     ]
    }
   ],
   "source": [
    "print(type(names))"
   ]
  },
  {
   "cell_type": "markdown",
   "id": "8dc0fdf6",
   "metadata": {},
   "source": [
    "### tuple unpacking"
   ]
  },
  {
   "cell_type": "code",
   "execution_count": 17,
   "id": "628cf913",
   "metadata": {},
   "outputs": [],
   "source": [
    "names = (\"mayowa\", \"segun\")"
   ]
  },
  {
   "cell_type": "code",
   "execution_count": 21,
   "id": "f9bbc9e2",
   "metadata": {},
   "outputs": [],
   "source": [
    "(student1, student2) = names"
   ]
  },
  {
   "cell_type": "code",
   "execution_count": 22,
   "id": "83212848",
   "metadata": {},
   "outputs": [
    {
     "name": "stdout",
     "output_type": "stream",
     "text": [
      "mayowa\n"
     ]
    }
   ],
   "source": [
    "print(student1)"
   ]
  },
  {
   "cell_type": "code",
   "execution_count": 23,
   "id": "3bc927fe",
   "metadata": {},
   "outputs": [
    {
     "name": "stdout",
     "output_type": "stream",
     "text": [
      "segun\n"
     ]
    }
   ],
   "source": [
    "print(student2)"
   ]
  },
  {
   "cell_type": "markdown",
   "id": "48809885",
   "metadata": {},
   "source": [
    "### SET"
   ]
  },
  {
   "cell_type": "code",
   "execution_count": 24,
   "id": "a7c987c9",
   "metadata": {},
   "outputs": [],
   "source": [
    "numbers = {10, 4 , 6, 8, 4}"
   ]
  },
  {
   "cell_type": "code",
   "execution_count": 25,
   "id": "35b741b3",
   "metadata": {},
   "outputs": [
    {
     "name": "stdout",
     "output_type": "stream",
     "text": [
      "{8, 10, 4, 6}\n"
     ]
    }
   ],
   "source": [
    "print(numbers)"
   ]
  },
  {
   "cell_type": "code",
   "execution_count": 26,
   "id": "f809d489",
   "metadata": {},
   "outputs": [],
   "source": [
    "# we use set to de-duplicate, like you are removing duplicates\n",
    "\n",
    "num = {2, 4, 6, 3, 2, 5, 4, 2, 1}"
   ]
  },
  {
   "cell_type": "code",
   "execution_count": 27,
   "id": "49ffa0e6",
   "metadata": {},
   "outputs": [
    {
     "name": "stdout",
     "output_type": "stream",
     "text": [
      "{1, 2, 3, 4, 5, 6}\n"
     ]
    }
   ],
   "source": [
    "print(num)"
   ]
  },
  {
   "cell_type": "code",
   "execution_count": 28,
   "id": "3b2241c7",
   "metadata": {},
   "outputs": [],
   "source": [
    "lst = [\"mayor\", \"jekwu\", \"mayor\", \"chichi\", \"chichi\"]"
   ]
  },
  {
   "cell_type": "code",
   "execution_count": 29,
   "id": "3844c0af",
   "metadata": {},
   "outputs": [
    {
     "name": "stdout",
     "output_type": "stream",
     "text": [
      "['mayor', 'jekwu', 'mayor', 'chichi', 'chichi']\n"
     ]
    }
   ],
   "source": [
    "print(lst)"
   ]
  },
  {
   "cell_type": "code",
   "execution_count": 30,
   "id": "e3139fe3",
   "metadata": {},
   "outputs": [],
   "source": [
    "de_duplicate = set(lst)"
   ]
  },
  {
   "cell_type": "code",
   "execution_count": 31,
   "id": "ef7b2c01",
   "metadata": {},
   "outputs": [
    {
     "name": "stdout",
     "output_type": "stream",
     "text": [
      "{'jekwu', 'mayor', 'chichi'}\n"
     ]
    }
   ],
   "source": [
    "print(de_duplicate)"
   ]
  },
  {
   "cell_type": "code",
   "execution_count": 32,
   "id": "8c830150",
   "metadata": {},
   "outputs": [],
   "source": [
    "final_lst = list(de_duplicate)"
   ]
  },
  {
   "cell_type": "code",
   "execution_count": 33,
   "id": "c5885777",
   "metadata": {},
   "outputs": [
    {
     "name": "stdout",
     "output_type": "stream",
     "text": [
      "['jekwu', 'mayor', 'chichi']\n"
     ]
    }
   ],
   "source": [
    "print(final_lst)"
   ]
  },
  {
   "cell_type": "code",
   "execution_count": null,
   "id": "f302146d",
   "metadata": {},
   "outputs": [],
   "source": []
  }
 ],
 "metadata": {
  "kernelspec": {
   "display_name": "Python 3 (ipykernel)",
   "language": "python",
   "name": "python3"
  },
  "language_info": {
   "codemirror_mode": {
    "name": "ipython",
    "version": 3
   },
   "file_extension": ".py",
   "mimetype": "text/x-python",
   "name": "python",
   "nbconvert_exporter": "python",
   "pygments_lexer": "ipython3",
   "version": "3.11.5"
  }
 },
 "nbformat": 4,
 "nbformat_minor": 5
}
