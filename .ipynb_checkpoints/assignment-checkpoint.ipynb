{
 "cells": [
  {
   "cell_type": "markdown",
   "id": "24b433ef",
   "metadata": {},
   "source": [
    "# Assignment"
   ]
  },
  {
   "cell_type": "markdown",
   "id": "87792554",
   "metadata": {},
   "source": [
    "### 1. Round 10.67246 to 3 decimal place"
   ]
  },
  {
   "cell_type": "code",
   "execution_count": 3,
   "id": "74ffda8a",
   "metadata": {},
   "outputs": [],
   "source": [
    "num = 10.67246"
   ]
  },
  {
   "cell_type": "code",
   "execution_count": 4,
   "id": "5c3e9fe1",
   "metadata": {},
   "outputs": [],
   "source": [
    "rounded_num = round(num, 3)"
   ]
  },
  {
   "cell_type": "code",
   "execution_count": 5,
   "id": "78806b7e",
   "metadata": {},
   "outputs": [
    {
     "name": "stdout",
     "output_type": "stream",
     "text": [
      "10.672\n"
     ]
    }
   ],
   "source": [
    "print(rounded_num)"
   ]
  },
  {
   "cell_type": "markdown",
   "id": "44648127",
   "metadata": {},
   "source": [
    "### 2. Convert String \"4.6\" to an integer (Remember that \"4.6\" is an integer)"
   ]
  },
  {
   "cell_type": "code",
   "execution_count": 6,
   "id": "a2d522f6",
   "metadata": {},
   "outputs": [],
   "source": [
    "str_num = \"4.6\""
   ]
  },
  {
   "cell_type": "code",
   "execution_count": 7,
   "id": "a13d0e99",
   "metadata": {},
   "outputs": [],
   "source": [
    "int_num = int(float(str_num))"
   ]
  },
  {
   "cell_type": "code",
   "execution_count": 8,
   "id": "a548e1e9",
   "metadata": {},
   "outputs": [
    {
     "name": "stdout",
     "output_type": "stream",
     "text": [
      "4\n"
     ]
    }
   ],
   "source": [
    "print(int_num)"
   ]
  },
  {
   "cell_type": "code",
   "execution_count": null,
   "id": "87a2f6d4",
   "metadata": {},
   "outputs": [],
   "source": []
  }
 ],
 "metadata": {
  "kernelspec": {
   "display_name": "Python 3 (ipykernel)",
   "language": "python",
   "name": "python3"
  },
  "language_info": {
   "codemirror_mode": {
    "name": "ipython",
    "version": 3
   },
   "file_extension": ".py",
   "mimetype": "text/x-python",
   "name": "python",
   "nbconvert_exporter": "python",
   "pygments_lexer": "ipython3",
   "version": "3.11.5"
  }
 },
 "nbformat": 4,
 "nbformat_minor": 5
}
