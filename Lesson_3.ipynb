{
 "cells": [
  {
   "cell_type": "markdown",
   "id": "2008d2d3",
   "metadata": {},
   "source": [
    "#### CONTROL FLOWS\n",
    "\n",
    "\n",
    "#### Conditional Statements"
   ]
  },
  {
   "cell_type": "code",
   "execution_count": 2,
   "id": "d46ff8e0",
   "metadata": {},
   "outputs": [
    {
     "name": "stdout",
     "output_type": "stream",
     "text": [
      "False\n"
     ]
    }
   ],
   "source": [
    "print(\"a\" == \"b\") #equality sign"
   ]
  },
  {
   "cell_type": "code",
   "execution_count": 3,
   "id": "3c6f321b",
   "metadata": {},
   "outputs": [
    {
     "name": "stdout",
     "output_type": "stream",
     "text": [
      "True\n"
     ]
    }
   ],
   "source": [
    "print(5 != 3)  #not equal"
   ]
  },
  {
   "cell_type": "code",
   "execution_count": 4,
   "id": "2b797c08",
   "metadata": {},
   "outputs": [
    {
     "name": "stdout",
     "output_type": "stream",
     "text": [
      "True\n"
     ]
    }
   ],
   "source": [
    "print(4 > 3) #greater than"
   ]
  },
  {
   "cell_type": "code",
   "execution_count": 5,
   "id": "b47d6754",
   "metadata": {},
   "outputs": [
    {
     "name": "stdout",
     "output_type": "stream",
     "text": [
      "True\n"
     ]
    }
   ],
   "source": [
    "print(20 <= 20) #less than or equal to"
   ]
  },
  {
   "cell_type": "code",
   "execution_count": 6,
   "id": "7909503e",
   "metadata": {},
   "outputs": [
    {
     "name": "stdout",
     "output_type": "stream",
     "text": [
      "False\n"
     ]
    }
   ],
   "source": [
    "print( 25 >= 100)"
   ]
  },
  {
   "cell_type": "markdown",
   "id": "0ca3354e",
   "metadata": {},
   "source": [
    "#### Logical Operators\n",
    "\n",
    "#### * and\n",
    "### * or"
   ]
  },
  {
   "cell_type": "code",
   "execution_count": 7,
   "id": "e4b5c243",
   "metadata": {},
   "outputs": [
    {
     "name": "stdout",
     "output_type": "stream",
     "text": [
      "False\n"
     ]
    }
   ],
   "source": [
    "print(2 > 5 or 10 < 10)"
   ]
  },
  {
   "cell_type": "code",
   "execution_count": 8,
   "id": "3cde3326",
   "metadata": {},
   "outputs": [
    {
     "name": "stdout",
     "output_type": "stream",
     "text": [
      "True\n"
     ]
    }
   ],
   "source": [
    "print(2 > 5 or 10 == 10)"
   ]
  },
  {
   "cell_type": "code",
   "execution_count": 9,
   "id": "a67f0f61",
   "metadata": {},
   "outputs": [
    {
     "name": "stdout",
     "output_type": "stream",
     "text": [
      "True\n"
     ]
    }
   ],
   "source": [
    "print(10 > 3 or 6 < 10)"
   ]
  },
  {
   "cell_type": "code",
   "execution_count": 10,
   "id": "91a7a511",
   "metadata": {},
   "outputs": [
    {
     "name": "stdout",
     "output_type": "stream",
     "text": [
      "True\n"
     ]
    }
   ],
   "source": [
    "print(10 < 100 or 6 < 10)"
   ]
  },
  {
   "cell_type": "code",
   "execution_count": 11,
   "id": "1e4bf17b",
   "metadata": {},
   "outputs": [
    {
     "name": "stdout",
     "output_type": "stream",
     "text": [
      "True\n"
     ]
    }
   ],
   "source": [
    "print(10 < 100 and 6 < 10)"
   ]
  },
  {
   "cell_type": "code",
   "execution_count": 12,
   "id": "90f5a55f",
   "metadata": {},
   "outputs": [
    {
     "name": "stdout",
     "output_type": "stream",
     "text": [
      "True\n"
     ]
    }
   ],
   "source": [
    "print(10 >= 3 and 10 <= 10)"
   ]
  },
  {
   "cell_type": "markdown",
   "id": "269b17e1",
   "metadata": {},
   "source": [
    "#### IF AND ELSE STATEMENTS"
   ]
  },
  {
   "cell_type": "code",
   "execution_count": null,
   "id": "3e3546f7",
   "metadata": {},
   "outputs": [],
   "source": [
    "if #condition to check :\n",
    "    # action to perform "
   ]
  },
  {
   "cell_type": "code",
   "execution_count": 16,
   "id": "88f261c4",
   "metadata": {},
   "outputs": [],
   "source": [
    "student_complete_assignment = True\n",
    "    "
   ]
  },
  {
   "cell_type": "code",
   "execution_count": 18,
   "id": "0f0079c8",
   "metadata": {},
   "outputs": [
    {
     "name": "stdout",
     "output_type": "stream",
     "text": [
      "You are eligible to be in the next class\n"
     ]
    }
   ],
   "source": [
    "if student_complete_assignment == True :\n",
    "    print(\"You are eligible to be in the next class\")"
   ]
  },
  {
   "cell_type": "code",
   "execution_count": 20,
   "id": "36c50cc4",
   "metadata": {},
   "outputs": [],
   "source": [
    "student_complete_assignment = True\n",
    "    "
   ]
  },
  {
   "cell_type": "code",
   "execution_count": 21,
   "id": "916fadb5",
   "metadata": {},
   "outputs": [
    {
     "name": "stdout",
     "output_type": "stream",
     "text": [
      "True\n"
     ]
    }
   ],
   "source": [
    "print(student_complete_assignment == True)"
   ]
  },
  {
   "cell_type": "code",
   "execution_count": 22,
   "id": "d4e61b3f",
   "metadata": {},
   "outputs": [
    {
     "name": "stdout",
     "output_type": "stream",
     "text": [
      "You are eligible to be in the next class\n"
     ]
    }
   ],
   "source": [
    "if student_complete_assignment == True :\n",
    "    print(\"You are eligible to be in the next class\")\n",
    "else : \n",
    "    print(\"You are not eligible to be in the next class\")"
   ]
  },
  {
   "cell_type": "code",
   "execution_count": 23,
   "id": "0ea20182",
   "metadata": {},
   "outputs": [],
   "source": [
    "student_complete_assignment = False\n"
   ]
  },
  {
   "cell_type": "code",
   "execution_count": 24,
   "id": "012ceb60",
   "metadata": {},
   "outputs": [
    {
     "name": "stdout",
     "output_type": "stream",
     "text": [
      "You are not eligible to be in the next class\n"
     ]
    }
   ],
   "source": [
    "if student_complete_assignment == True :\n",
    "    print(\"You are eligible to be in the next class\")\n",
    "else : \n",
    "    print(\"You are not eligible to be in the next class\")"
   ]
  },
  {
   "cell_type": "code",
   "execution_count": 28,
   "id": "6594536e",
   "metadata": {},
   "outputs": [],
   "source": [
    "number = 100"
   ]
  },
  {
   "cell_type": "code",
   "execution_count": 30,
   "id": "02ed20e1",
   "metadata": {},
   "outputs": [
    {
     "name": "stdout",
     "output_type": "stream",
     "text": [
      "That's too expensive\n"
     ]
    }
   ],
   "source": [
    "if number >= 10 :\n",
    "    print(\"That's too expensive\")\n",
    "else:\n",
    "    print(\"That's cheap\")"
   ]
  },
  {
   "cell_type": "code",
   "execution_count": 9,
   "id": "37517d9f",
   "metadata": {},
   "outputs": [],
   "source": [
    "amanda_age = 15"
   ]
  },
  {
   "cell_type": "code",
   "execution_count": 10,
   "id": "62e03fab",
   "metadata": {},
   "outputs": [],
   "source": [
    "yinka_age = 15"
   ]
  },
  {
   "cell_type": "code",
   "execution_count": 11,
   "id": "a6412b3c",
   "metadata": {},
   "outputs": [
    {
     "name": "stdout",
     "output_type": "stream",
     "text": [
      "They are of the same age\n"
     ]
    }
   ],
   "source": [
    "if amanda_age > yinka_age:\n",
    "    print(\"amanda is older than yinka\")\n",
    "elif amanda_age == yinka_age:\n",
    "    print(\"They are of the same age\")\n",
    "else:\n",
    "    print(\"yinka is older than amanda\")"
   ]
  },
  {
   "cell_type": "code",
   "execution_count": 13,
   "id": "a43324a5",
   "metadata": {
    "scrolled": true
   },
   "outputs": [
    {
     "name": "stdout",
     "output_type": "stream",
     "text": [
      "Welcome to this movie website, \n",
      "please this movies contain some abusive language,\n",
      "You need to be older than 18, please parental guide is advised.\n",
      "How old are you:  20\n",
      "Checking customer age for eligibility, hold on a sec\n",
      "Welcome, you are eligible to watch this movie\n"
     ]
    }
   ],
   "source": [
    "print(\"\"\"Welcome to this movie website, \n",
    "please this movies contain some abusive language,\n",
    "You need to be older than 18, please parental guide is advised.\"\"\")\n",
    "      \n",
    "customer_age = int(input(\"How old are you:  \"))\n",
    "print(\"Checking customer age for eligibility, hold on a sec\")\n",
    "\n",
    "if customer_age >= 18:\n",
    "      print(\"Welcome, you are eligible to watch this movie\")\n",
    "else:\n",
    "      print(\"Please, you are too young to watch this movie\")"
   ]
  },
  {
   "cell_type": "markdown",
   "id": "bf340ad8",
   "metadata": {},
   "source": [
    "## GUESSING GAME SYSTEM"
   ]
  },
  {
   "cell_type": "code",
   "execution_count": 12,
   "id": "d39bca3d",
   "metadata": {},
   "outputs": [
    {
     "name": "stdout",
     "output_type": "stream",
     "text": [
      "What is your first name: Amanda\n",
      "Please provide your magic number: 44\n",
      "Please Wait and see if you have the lucky number\n",
      "Oops!!, wrong magic number Amanda, the correct magic number is 61, Please try again later.\n"
     ]
    }
   ],
   "source": [
    "# import time for the time sleep function\n",
    "# import random to generate random numbers\n",
    "\n",
    "import time\n",
    "import random\n",
    "\n",
    "actual_magic_number = random.randint(1, 100)\n",
    "\n",
    "user_name = input(\"What is your first name: \")\n",
    "user_magic_number = int(input(\"Please provide your magic number: \"))\n",
    "\n",
    "print(\"Please Wait and see if you have the lucky number\")\n",
    "time.sleep(5)\n",
    "if user_magic_number == actual_magic_number:\n",
    "    print(f\"Hooray, {user_name}, the magic number is {actual_magic_number}, you just won a jackpot !!!!\")\n",
    "else:\n",
    "    print(f\"Oops!!, wrong magic number {first_name}, the correct magic number is {actual_magic_number}, Please try again later.\")"
   ]
  },
  {
   "cell_type": "code",
   "execution_count": null,
   "id": "3acb9c55",
   "metadata": {},
   "outputs": [],
   "source": []
  },
  {
   "cell_type": "code",
   "execution_count": 1,
   "id": "f02268e0",
   "metadata": {},
   "outputs": [],
   "source": [
    "name = \"mayowa\""
   ]
  },
  {
   "cell_type": "code",
   "execution_count": 2,
   "id": "9918d1ee",
   "metadata": {},
   "outputs": [
    {
     "name": "stdout",
     "output_type": "stream",
     "text": [
      "The name starts with m\n"
     ]
    }
   ],
   "source": [
    "# we want to find a name that starts with m \n",
    "\n",
    "\n",
    "if name.startswith(\"m\"):\n",
    "    print(\"The name starts with m\")\n",
    "else: \n",
    "    print(\"The name does not start with m\")"
   ]
  },
  {
   "cell_type": "code",
   "execution_count": 3,
   "id": "56c6348e",
   "metadata": {},
   "outputs": [
    {
     "name": "stdout",
     "output_type": "stream",
     "text": [
      "The name starts with m\n"
     ]
    }
   ],
   "source": [
    "if name[0] == \"m\": \n",
    "    print(\"The name starts with m\")\n",
    "else: \n",
    "    print(\"The name does not start with m\")"
   ]
  },
  {
   "cell_type": "markdown",
   "id": "f0718081",
   "metadata": {},
   "source": [
    "\n",
    "## Navigation System"
   ]
  },
  {
   "cell_type": "code",
   "execution_count": null,
   "id": "f795d685",
   "metadata": {},
   "outputs": [],
   "source": [
    "normal_commute_time = 30\n",
    "\n",
    "is_raining = True \n",
    "\n",
    "is_traffic = True"
   ]
  },
  {
   "cell_type": "markdown",
   "id": "38915f27",
   "metadata": {},
   "source": [
    "#### For Loop"
   ]
  },
  {
   "cell_type": "markdown",
   "id": "85fe0f10",
   "metadata": {},
   "source": [
    "##### This is a concept in python that allows us to iterate/ go over a sequence like list, tuple, dictionary, string, set"
   ]
  },
  {
   "cell_type": "code",
   "execution_count": 5,
   "id": "e3ae9a24",
   "metadata": {},
   "outputs": [],
   "source": [
    "students =[\"mayowa\", \"amanda\", \"segun\", \"jekwu\", \"yinka\", \"chinyere\", \"joachim\"]"
   ]
  },
  {
   "cell_type": "code",
   "execution_count": 6,
   "id": "8945275c",
   "metadata": {},
   "outputs": [
    {
     "name": "stdout",
     "output_type": "stream",
     "text": [
      "mayowa\n",
      "amanda\n",
      "segun\n",
      "jekwu\n",
      "yinka\n",
      "chinyere\n",
      "joachim\n"
     ]
    }
   ],
   "source": [
    "for names in students:\n",
    "    print(names)"
   ]
  },
  {
   "cell_type": "code",
   "execution_count": 7,
   "id": "0e0a922a",
   "metadata": {},
   "outputs": [
    {
     "name": "stdout",
     "output_type": "stream",
     "text": [
      "6\n",
      "6\n",
      "5\n",
      "5\n",
      "5\n",
      "8\n",
      "7\n"
     ]
    }
   ],
   "source": [
    "for x in students:\n",
    "    print(len(x))"
   ]
  },
  {
   "cell_type": "code",
   "execution_count": 11,
   "id": "53f1d9eb",
   "metadata": {},
   "outputs": [
    {
     "name": "stdout",
     "output_type": "stream",
     "text": [
      "hello\n",
      "hello\n",
      "hello\n",
      "hello\n",
      "hello\n",
      "hello\n",
      "hello\n",
      "hello\n",
      "hello\n",
      "hello\n"
     ]
    }
   ],
   "source": [
    "for numbers in range(1, 11):\n",
    "    print(\"hello\")"
   ]
  },
  {
   "cell_type": "code",
   "execution_count": 12,
   "id": "7729c715",
   "metadata": {},
   "outputs": [],
   "source": [
    "students =[\"mayowa\", \"amanda\", \"segun\", \"jekwu\", \"yinka\", \"chinyere\", \"joachim\"]"
   ]
  },
  {
   "cell_type": "code",
   "execution_count": 14,
   "id": "84d32487",
   "metadata": {},
   "outputs": [
    {
     "name": "stdout",
     "output_type": "stream",
     "text": [
      "How are you mayowa, you are welcome\n",
      "How are you amanda, you are welcome\n",
      "How are you segun, you are welcome\n",
      "How are you jekwu, you are welcome\n",
      "How are you yinka, you are welcome\n",
      "How are you chinyere, you are welcome\n",
      "How are you joachim, you are welcome\n"
     ]
    }
   ],
   "source": [
    "for people in students:\n",
    "    print(f\"How are you {people}, you are welcome\")"
   ]
  },
  {
   "cell_type": "code",
   "execution_count": 15,
   "id": "ebab557b",
   "metadata": {},
   "outputs": [
    {
     "name": "stdout",
     "output_type": "stream",
     "text": [
      "jekwu\n",
      "joachim\n"
     ]
    }
   ],
   "source": [
    "for dudes in students:\n",
    "    if dudes.startswith(\"j\"):\n",
    "        print(dudes)"
   ]
  },
  {
   "cell_type": "code",
   "execution_count": 16,
   "id": "a630d456",
   "metadata": {},
   "outputs": [
    {
     "name": "stdout",
     "output_type": "stream",
     "text": [
      "The name doesn't starts with j, this students name is mayowa\n",
      "The name doesn't starts with j, this students name is amanda\n",
      "The name doesn't starts with j, this students name is segun\n",
      "jekwu\n",
      "The name doesn't starts with j, this students name is yinka\n",
      "The name doesn't starts with j, this students name is chinyere\n",
      "joachim\n"
     ]
    }
   ],
   "source": [
    "for dudes in students:\n",
    "    if dudes.startswith(\"j\"):\n",
    "        print(dudes)\n",
    "    else:\n",
    "        print(f\"The name doesn't starts with j, this students name is {dudes}\")"
   ]
  },
  {
   "cell_type": "code",
   "execution_count": 21,
   "id": "a2af168d",
   "metadata": {},
   "outputs": [],
   "source": [
    "numbers = [2,5,8,23,15,11,10.5,9,4,7,2,1]"
   ]
  },
  {
   "cell_type": "code",
   "execution_count": 22,
   "id": "1feee411",
   "metadata": {},
   "outputs": [
    {
     "name": "stdout",
     "output_type": "stream",
     "text": [
      "23\n",
      "15\n",
      "11\n",
      "10.5\n"
     ]
    }
   ],
   "source": [
    "for n in numbers:\n",
    "    if n > 10:\n",
    "        print(n)"
   ]
  },
  {
   "cell_type": "code",
   "execution_count": 23,
   "id": "11febc78",
   "metadata": {},
   "outputs": [],
   "source": [
    "numbers = [2,5,8,23,15,11,10.5,9,4,7,2,1]"
   ]
  },
  {
   "cell_type": "code",
   "execution_count": 24,
   "id": "2a1d9dcc",
   "metadata": {},
   "outputs": [],
   "source": []
  },
  {
   "cell_type": "code",
   "execution_count": 25,
   "id": "0f0f1657",
   "metadata": {},
   "outputs": [],
   "source": []
  },
  {
   "cell_type": "code",
   "execution_count": 30,
   "id": "a9e11d30",
   "metadata": {},
   "outputs": [],
   "source": [
    "\n",
    "values_less_than_10 = []\n",
    "values_greater_equal_10 = []\n",
    "\n",
    "\n",
    "for numerics in numbers:\n",
    "    if numerics < 10:\n",
    "        values_less_than_10.append(numerics)\n",
    "    else:\n",
    "        values_greater_equal_10.append(numerics)"
   ]
  },
  {
   "cell_type": "code",
   "execution_count": 31,
   "id": "df816fb5",
   "metadata": {},
   "outputs": [
    {
     "name": "stdout",
     "output_type": "stream",
     "text": [
      "[2, 5, 8, 9, 4, 7, 2, 1]\n"
     ]
    }
   ],
   "source": [
    "print(values_less_than_10)"
   ]
  },
  {
   "cell_type": "code",
   "execution_count": 32,
   "id": "884f15d2",
   "metadata": {},
   "outputs": [
    {
     "name": "stdout",
     "output_type": "stream",
     "text": [
      "[23, 15, 11, 10.5]\n"
     ]
    }
   ],
   "source": [
    "print(values_greater_equal_10)"
   ]
  },
  {
   "cell_type": "markdown",
   "id": "fbcb5d8f",
   "metadata": {},
   "source": [
    "#### modulo usage %"
   ]
  },
  {
   "cell_type": "code",
   "execution_count": 1,
   "id": "448fa1e3",
   "metadata": {},
   "outputs": [],
   "source": [
    "numbers = [2,5,4,6,8,7,9,7,10,5]"
   ]
  },
  {
   "cell_type": "code",
   "execution_count": 2,
   "id": "9fc42baa",
   "metadata": {},
   "outputs": [],
   "source": [
    "# Every even number % 2 will always remain 0 and every odd number % 2 will always remain 1"
   ]
  },
  {
   "cell_type": "code",
   "execution_count": 3,
   "id": "c342ace7",
   "metadata": {},
   "outputs": [
    {
     "name": "stdout",
     "output_type": "stream",
     "text": [
      "1\n"
     ]
    }
   ],
   "source": [
    "print(33 % 2)"
   ]
  },
  {
   "cell_type": "code",
   "execution_count": 4,
   "id": "900d21e9",
   "metadata": {},
   "outputs": [
    {
     "name": "stdout",
     "output_type": "stream",
     "text": [
      "0\n"
     ]
    }
   ],
   "source": [
    "print(100 % 2)"
   ]
  },
  {
   "cell_type": "code",
   "execution_count": 5,
   "id": "43bbb0fe",
   "metadata": {},
   "outputs": [],
   "source": [
    "numbers = [2,5,4,6,8,7,9,7,10,5]"
   ]
  },
  {
   "cell_type": "code",
   "execution_count": 6,
   "id": "b1fce195",
   "metadata": {},
   "outputs": [
    {
     "name": "stdout",
     "output_type": "stream",
     "text": [
      "2\n",
      "4\n",
      "6\n",
      "8\n",
      "10\n"
     ]
    }
   ],
   "source": [
    "for n in numbers:\n",
    "    if n % 2 == 0:\n",
    "        print(n)"
   ]
  },
  {
   "cell_type": "code",
   "execution_count": 9,
   "id": "fa0f80b5",
   "metadata": {},
   "outputs": [],
   "source": [
    "empty_list = []\n",
    "\n",
    "for n in numbers:\n",
    "    if n % 2 == 0:\n",
    "        empty_list.append(n)\n",
    "        "
   ]
  },
  {
   "cell_type": "code",
   "execution_count": 10,
   "id": "efc0ccee",
   "metadata": {},
   "outputs": [
    {
     "name": "stdout",
     "output_type": "stream",
     "text": [
      "[2, 4, 6, 8, 10]\n"
     ]
    }
   ],
   "source": [
    "print(empty_list)"
   ]
  },
  {
   "cell_type": "markdown",
   "id": "3e7c6426",
   "metadata": {},
   "source": [
    "### CALCULATOR"
   ]
  },
  {
   "cell_type": "code",
   "execution_count": 25,
   "id": "b29c7b38",
   "metadata": {},
   "outputs": [
    {
     "name": "stdout",
     "output_type": "stream",
     "text": [
      "\"\n",
      "            What arithmetic do you want to do,\n",
      "            press a for Addition,\n",
      "            press m for Multiplication,\n",
      "            press s for Subtraction,\n",
      "            press d for Division:   d\n",
      "Please input your first number:  8\n",
      "Please input your second number: 4\n",
      "2.0\n"
     ]
    }
   ],
   "source": [
    "arithematic_type = input(\"\"\"\"\n",
    "            What arithmetic do you want to do,\n",
    "            press a for Addition,\n",
    "            press m for Multiplication,\n",
    "            press s for Subtraction,\n",
    "            press d for Division:   \"\"\").lower()\n",
    "\n",
    "first_number = int(input(\"Please input your first number:  \"))\n",
    "second_number = int(input(\"Please input your second number: \"))\n",
    "\n",
    "if arithematic_type == \"a\":\n",
    "    print(first_number + second_number)\n",
    "elif arithematic_type == \"s\":\n",
    "    print(first_number - second_number)\n",
    "else:\n",
    "    print(first_number / second_number)\n",
    "# you can use elif arithematic _type ==\"a\"\n",
    "\n",
    "\n",
    "# for subtraction add elif \n",
    "# use else for the last condition to close up\n"
   ]
  },
  {
   "cell_type": "code",
   "execution_count": 24,
   "id": "03f39669",
   "metadata": {},
   "outputs": [
    {
     "name": "stdout",
     "output_type": "stream",
     "text": [
      "\"\n",
      "            What arithmetic do you want to do,\n",
      "            press a for Addition,\n",
      "            press m for Multiplication,\n",
      "            press s for Subtraction,\n",
      "            press d for Division:   d\n",
      "Please input your first number:  8\n",
      "Please input your second number: 4\n",
      "2\n"
     ]
    }
   ],
   "source": [
    "arithematic_type = input(\"\"\"\"\n",
    "            What arithmetic do you want to do,\n",
    "            press a for Addition,\n",
    "            press m for Multiplication,\n",
    "            press s for Subtraction,\n",
    "            press d for Division:   \"\"\").lower()\n",
    "\n",
    "first_number = float(input(\"Please input your first number:  \"))\n",
    "second_number = int(input(\"Please input your second number: \"))\n",
    "\n",
    "if arithematic_type == \"a\":\n",
    "    print(first_number + second_number)\n",
    "elif arithematic_type == \"s\":\n",
    "    print(first_number - second_number)\n",
    "else:\n",
    "    result = first_number / second_number\n",
    "    if str(result).endswith(\"0\"):\n",
    "        print(int(result))\n",
    "    else:\n",
    "        print(result)\n",
    "# you can use elif arithematic _type ==\"a\"\n",
    "\n",
    "\n",
    "# for subtraction add elif \n",
    "# use else for the last condition to close up\n"
   ]
  },
  {
   "cell_type": "code",
   "execution_count": 19,
   "id": "da00cad6",
   "metadata": {},
   "outputs": [],
   "source": [
    "age = [23, 5, 3, 24, 7, 10, 15, 3, 17, 29, 28, 29, 30, 50, 100, 105]"
   ]
  },
  {
   "cell_type": "code",
   "execution_count": null,
   "id": "f883034c",
   "metadata": {},
   "outputs": [],
   "source": []
  },
  {
   "cell_type": "code",
   "execution_count": 20,
   "id": "f07451f6",
   "metadata": {},
   "outputs": [
    {
     "name": "stdout",
     "output_type": "stream",
     "text": [
      "24\n",
      "28\n",
      "30\n",
      "50\n",
      "100\n"
     ]
    }
   ],
   "source": [
    "for n in age:\n",
    "    if n % 2 == 0 and n > 10:\n",
    "        print(n)"
   ]
  },
  {
   "cell_type": "code",
   "execution_count": 21,
   "id": "df88701c",
   "metadata": {},
   "outputs": [
    {
     "name": "stdout",
     "output_type": "stream",
     "text": [
      "24\n",
      "28\n",
      "30\n",
      "50\n",
      "100\n"
     ]
    }
   ],
   "source": [
    "# another method using nested if statement\n",
    "\n",
    "for n in age:\n",
    "    if n > 10 :\n",
    "        if n % 2 == 0:\n",
    "            print(n)"
   ]
  },
  {
   "cell_type": "markdown",
   "id": "c748004d",
   "metadata": {},
   "source": [
    "### WHILE LOOP"
   ]
  },
  {
   "cell_type": "code",
   "execution_count": null,
   "id": "213f0a9b",
   "metadata": {},
   "outputs": [],
   "source": [
    "x = 5\n",
    "\n",
    "while x < 10:\n",
    "    print(\"hello\")\n",
    "    x = 6 + 1"
   ]
  },
  {
   "cell_type": "code",
   "execution_count": null,
   "id": "43781caa",
   "metadata": {},
   "outputs": [],
   "source": [
    "actual_pin = 1212\n",
    "user_pin = None\n",
    "pin_input_attempt = 0\n",
    "pin_attempt_limit = 2\n",
    "\n",
    "while actual_pin != user_pin:\n",
    "    user_pin = int(input(\"Please input your 4 digit PIN: \"))\n",
    "    if actual_pin != user_pin and pin_attempt_limit == pin_input_attempt:\n",
    "        print(\"Your card has been blocked, please visit the nearest branch to unblock it\")\n",
    "        break\n",
    "        \n",
    "        pin_input_attempt = pin_input_attempt + 1\n",
    "        \n",
    "    else:\n",
    "        print(\"welcome\")\n",
    "        "
   ]
  },
  {
   "cell_type": "code",
   "execution_count": 30,
   "id": "9559bafc",
   "metadata": {},
   "outputs": [],
   "source": [
    "names = [\"mayowa\", \"joachim\", \"segun\", \"amanda\", \"chinyere\"]"
   ]
  },
  {
   "cell_type": "code",
   "execution_count": 31,
   "id": "77dec2c8",
   "metadata": {},
   "outputs": [
    {
     "name": "stdout",
     "output_type": "stream",
     "text": [
      "mayowa\n",
      "joachim\n",
      "amanda\n"
     ]
    }
   ],
   "source": [
    "for x in names:\n",
    "    if \"a\" in x:\n",
    "        print(x)"
   ]
  },
  {
   "cell_type": "code",
   "execution_count": null,
   "id": "b36e4aac",
   "metadata": {},
   "outputs": [],
   "source": []
  }
 ],
 "metadata": {
  "kernelspec": {
   "display_name": "Python 3 (ipykernel)",
   "language": "python",
   "name": "python3"
  },
  "language_info": {
   "codemirror_mode": {
    "name": "ipython",
    "version": 3
   },
   "file_extension": ".py",
   "mimetype": "text/x-python",
   "name": "python",
   "nbconvert_exporter": "python",
   "pygments_lexer": "ipython3",
   "version": "3.11.5"
  }
 },
 "nbformat": 4,
 "nbformat_minor": 5
}
