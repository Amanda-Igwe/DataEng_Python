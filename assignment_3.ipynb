{
 "cells": [
  {
   "cell_type": "markdown",
   "id": "a851a5f0",
   "metadata": {},
   "source": [
    "## Assignment 3"
   ]
  },
  {
   "cell_type": "code",
   "execution_count": 13,
   "id": "af456a7a",
   "metadata": {},
   "outputs": [],
   "source": [
    "# create any random dict with 5 items \n",
    "\n",
    "\n",
    "amanda_data = {\"name\" : \"Amanda\", \"gender\" :\"female\", \"is_sad\" : False, \"status\" : \"Available for Enjoyment\", \"age\" : 21 }"
   ]
  },
  {
   "cell_type": "code",
   "execution_count": 14,
   "id": "0d2a0ff5",
   "metadata": {},
   "outputs": [
    {
     "name": "stdout",
     "output_type": "stream",
     "text": [
      "dict_keys(['name', 'gender', 'is_sad', 'status', 'age'])\n"
     ]
    }
   ],
   "source": [
    "# retrieve all keys at the same time \n",
    "\n",
    "print(amanda_data.keys())"
   ]
  },
  {
   "cell_type": "code",
   "execution_count": 15,
   "id": "d992b41e",
   "metadata": {},
   "outputs": [
    {
     "name": "stdout",
     "output_type": "stream",
     "text": [
      "dict_values(['Amanda', 'female', False, 'Available for Enjoyment', 21])\n"
     ]
    }
   ],
   "source": [
    "# retrieve all values at the same time \n",
    "\n",
    "print(amanda_data.values())"
   ]
  },
  {
   "cell_type": "code",
   "execution_count": 18,
   "id": "802a4673",
   "metadata": {},
   "outputs": [
    {
     "name": "stdout",
     "output_type": "stream",
     "text": [
      "['blue', 'red', 'yellow', 'blue', 'black', 'red', 'white', 'black']\n"
     ]
    }
   ],
   "source": [
    "# Create a random list that contains duplicate elements\n",
    "\n",
    "colors = [\"blue\", \"red\", \"yellow\", \"blue\", \"black\", \"red\", \"white\", \"black\"]\n",
    "\n",
    "print(colors)"
   ]
  },
  {
   "cell_type": "code",
   "execution_count": 27,
   "id": "eaba7799",
   "metadata": {},
   "outputs": [
    {
     "name": "stdout",
     "output_type": "stream",
     "text": [
      "{'red', 'yellow', 'white', 'blue', 'black'}\n"
     ]
    }
   ],
   "source": [
    "# de- duplicate the list\n",
    "\n",
    "colors_cleaned = set(colors)\n",
    "\n",
    "\n",
    "# print to view cleaned list\n",
    "\n",
    "print(colors_cleaned)"
   ]
  },
  {
   "cell_type": "code",
   "execution_count": 29,
   "id": "f0a3e5a8",
   "metadata": {},
   "outputs": [
    {
     "name": "stdout",
     "output_type": "stream",
     "text": [
      "<class 'tuple'>\n"
     ]
    }
   ],
   "source": [
    "# create a random tuple with 5 elements\n",
    "\n",
    "sports = (\"football\", \"swimming\", \"basketball\", \"tennis\", \"golf\")\n",
    "\n",
    "\n",
    "#check sports type \n",
    "\n",
    "print(type(sports))"
   ]
  },
  {
   "cell_type": "code",
   "execution_count": 62,
   "id": "2a828f7a",
   "metadata": {},
   "outputs": [
    {
     "name": "stdout",
     "output_type": "stream",
     "text": [
      "['football', 'swimming', 'basketball', 'tennis', 'golf']\n"
     ]
    }
   ],
   "source": [
    "# add one element to the tuple, first assign the list to a variable sports_added\n",
    "\n",
    "sports_added = list(sports)\n",
    "\n",
    "print(sports_added)"
   ]
  },
  {
   "cell_type": "code",
   "execution_count": 63,
   "id": "ce04f120",
   "metadata": {},
   "outputs": [
    {
     "name": "stdout",
     "output_type": "stream",
     "text": [
      "['football', 'swimming', 'basketball', 'tennis', 'golf', 'jogging']\n"
     ]
    }
   ],
   "source": [
    "# add the element to the tuple now \n",
    "\n",
    "sports_added.append(\"jogging\") \n",
    "\n",
    "\n",
    "print(sports_added)"
   ]
  },
  {
   "cell_type": "code",
   "execution_count": 64,
   "id": "a5b590ae",
   "metadata": {},
   "outputs": [
    {
     "name": "stdout",
     "output_type": "stream",
     "text": [
      "['football', 'swimming', 'basketball', 'tennis', 'golf', 'jogging']\n"
     ]
    }
   ],
   "source": [
    "# remove the first index of the tuple, first assign a variable sports_remove\n",
    "\n",
    "sports_removed = list(sports_added)\n",
    "\n",
    "\n",
    "print(sports_removed)"
   ]
  },
  {
   "cell_type": "code",
   "execution_count": 65,
   "id": "24c4dbbf",
   "metadata": {},
   "outputs": [
    {
     "name": "stdout",
     "output_type": "stream",
     "text": [
      "['swimming', 'basketball', 'tennis', 'golf', 'jogging']\n"
     ]
    }
   ],
   "source": [
    "# remove the first index\n",
    "\n",
    "sports_removed.remove(\"football\")\n",
    "\n",
    "\n",
    "print(sports_removed)"
   ]
  },
  {
   "cell_type": "code",
   "execution_count": 68,
   "id": "68fc38b2",
   "metadata": {},
   "outputs": [
    {
     "name": "stdout",
     "output_type": "stream",
     "text": [
      "['swimming', 'racing', 'tennis', 'golf', 'jogging']\n"
     ]
    }
   ],
   "source": [
    "# change second index to another element\n",
    "\n",
    "sports_removed[1] = \"racing\"\n",
    "\n",
    "print(sports_removed)"
   ]
  },
  {
   "cell_type": "code",
   "execution_count": 70,
   "id": "11994498",
   "metadata": {},
   "outputs": [
    {
     "name": "stdout",
     "output_type": "stream",
     "text": [
      "{39, 73, 10, 11, 12, 15, 48, 81, 50, 22}\n"
     ]
    }
   ],
   "source": [
    "# create a random set with 10 numbers\n",
    "\n",
    "num = {12, 15, 10, 11, 50, 39, 48, 73, 22, 81}\n",
    "\n",
    "print(num)"
   ]
  },
  {
   "cell_type": "code",
   "execution_count": 76,
   "id": "34fde995",
   "metadata": {},
   "outputs": [
    {
     "name": "stdout",
     "output_type": "stream",
     "text": [
      "<class 'set'>\n"
     ]
    }
   ],
   "source": [
    "# convert the set to list, start by checking the type .\n",
    "\n",
    "print(type(num))\n"
   ]
  },
  {
   "cell_type": "code",
   "execution_count": 77,
   "id": "3d3cf56a",
   "metadata": {},
   "outputs": [],
   "source": [
    "#converting to a list\n",
    "\n",
    "num_lst = list(set(num))"
   ]
  },
  {
   "cell_type": "code",
   "execution_count": 78,
   "id": "5c360fd2",
   "metadata": {},
   "outputs": [
    {
     "name": "stdout",
     "output_type": "stream",
     "text": [
      "<class 'list'>\n"
     ]
    }
   ],
   "source": [
    "print(type(num_lst))"
   ]
  },
  {
   "cell_type": "code",
   "execution_count": 79,
   "id": "d35c60d2",
   "metadata": {},
   "outputs": [
    {
     "name": "stdout",
     "output_type": "stream",
     "text": [
      "10\n"
     ]
    }
   ],
   "source": [
    " # count total element in list\n",
    "    \n",
    "print(len(num_lst))"
   ]
  },
  {
   "cell_type": "code",
   "execution_count": 81,
   "id": "766de8fe",
   "metadata": {},
   "outputs": [
    {
     "name": "stdout",
     "output_type": "stream",
     "text": [
      "5\n"
     ]
    }
   ],
   "source": [
    "# divide the result by 2\n",
    "\n",
    "new_lst_result = len(num_lst) // 2\n",
    "\n",
    "print(new_lst_result)"
   ]
  },
  {
   "cell_type": "code",
   "execution_count": 83,
   "id": "a7792c80",
   "metadata": {},
   "outputs": [
    {
     "name": "stdout",
     "output_type": "stream",
     "text": [
      "<class 'int'>\n"
     ]
    }
   ],
   "source": [
    "# check if the result is an int \n",
    "\n",
    "print(type(new_lst_result))"
   ]
  },
  {
   "cell_type": "markdown",
   "id": "b8b53f3f",
   "metadata": {},
   "source": []
  },
  {
   "cell_type": "code",
   "execution_count": null,
   "id": "f2187b7b",
   "metadata": {},
   "outputs": [],
   "source": []
  }
 ],
 "metadata": {
  "kernelspec": {
   "display_name": "Python 3 (ipykernel)",
   "language": "python",
   "name": "python3"
  },
  "language_info": {
   "codemirror_mode": {
    "name": "ipython",
    "version": 3
   },
   "file_extension": ".py",
   "mimetype": "text/x-python",
   "name": "python",
   "nbconvert_exporter": "python",
   "pygments_lexer": "ipython3",
   "version": "3.11.5"
  }
 },
 "nbformat": 4,
 "nbformat_minor": 5
}
