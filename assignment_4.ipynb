{
 "cells": [
  {
   "cell_type": "markdown",
   "id": "4632cf06",
   "metadata": {},
   "source": [
    "## AWS S3 Buckets"
   ]
  },
  {
   "cell_type": "code",
   "execution_count": 5,
   "id": "21db8276",
   "metadata": {},
   "outputs": [],
   "source": [
    "# Assign the above nested dictionary to a variable bucket_list_response\n",
    "\n",
    "\n",
    "bucket_list_response = {'ResponseMetadata': {'RequestId': 'NC6YGDVEN48S3EFG',\n",
    "  'HostId': '+FJnmTwAwoEfp0jignXRueR6Bc62MwN1aBvK3SAJJ9fH0Y+AAsaSoEyjHyz8ij6QefhFquWb5Yk=',\n",
    "  'HTTPStatusCode': 200,\n",
    "  'HTTPHeaders': {'x-amz-id-2': '+FJnmTwAwoEfp0jignXRueR6Bc62MwN1aBvK3SAJJ9fH0Y+AAsaSoEyjHyz8ij6QefhFquWb5Yk=',\n",
    "   'x-amz-request-id': 'NC6YGDVEN48S3EFG',\n",
    "   'date': 'Wed, 20 Dec 2023 08:42:20 GMT',\n",
    "   'content-type': 'application/xml',\n",
    "   'transfer-encoding': 'chunked',\n",
    "   'server': 'AmazonS3'},\n",
    "  'RetryAttempts': 0},\n",
    "'Buckets': [{'Name': 'amanda-igwe',\n",
    "   'CreationDate': 'datetime.datetime(2023, 12, 20, 8, 19, 13, tzinfo=tzutc())'},\n",
    "  {'Name': 'chinyere',\n",
    "   'CreationDate': 'datetime.datetime(2023, 12, 20, 8, 17, 54, tzinfo=tzutc())'},\n",
    "  {'Name': 'chukwujekwu-anah',\n",
    "   'CreationDate': 'datetime.datetime(2023, 12, 20, 8, 17, 3, tzinfo=tzutc())'},\n",
    "  {'Name': 'joachim-uche',\n",
    "   'CreationDate': 'datetime.datetime(2023, 12, 20, 8, 15, 53, tzinfo=tzutc())'},\n",
    "  {'Name': 'segun-lawal',\n",
    "   'CreationDate': 'datetime.datetime(2023, 12, 20, 8, 17, 31, tzinfo=tzutc())'},\n",
    "  {'Name': 'yimika',\n",
    "   'CreationDate': 'datetime.datetime(2023, 12, 20, 8, 42, 3, tzinfo=tzutc())'}],\n",
    "'Owner': {'ID': 'fb45f4974068284041efc3a13b3321d277bb56c0029e7e6017f7cea998c249de'}}"
   ]
  },
  {
   "cell_type": "code",
   "execution_count": 6,
   "id": "b26c2051",
   "metadata": {},
   "outputs": [
    {
     "name": "stdout",
     "output_type": "stream",
     "text": [
      "{'ResponseMetadata': {'RequestId': 'NC6YGDVEN48S3EFG', 'HostId': '+FJnmTwAwoEfp0jignXRueR6Bc62MwN1aBvK3SAJJ9fH0Y+AAsaSoEyjHyz8ij6QefhFquWb5Yk=', 'HTTPStatusCode': 200, 'HTTPHeaders': {'x-amz-id-2': '+FJnmTwAwoEfp0jignXRueR6Bc62MwN1aBvK3SAJJ9fH0Y+AAsaSoEyjHyz8ij6QefhFquWb5Yk=', 'x-amz-request-id': 'NC6YGDVEN48S3EFG', 'date': 'Wed, 20 Dec 2023 08:42:20 GMT', 'content-type': 'application/xml', 'transfer-encoding': 'chunked', 'server': 'AmazonS3'}, 'RetryAttempts': 0}, 'Buckets': [{'Name': 'amanda-igwe', 'CreationDate': 'datetime.datetime(2023, 12, 20, 8, 19, 13, tzinfo=tzutc())'}, {'Name': 'chinyere', 'CreationDate': 'datetime.datetime(2023, 12, 20, 8, 17, 54, tzinfo=tzutc())'}, {'Name': 'chukwujekwu-anah', 'CreationDate': 'datetime.datetime(2023, 12, 20, 8, 17, 3, tzinfo=tzutc())'}, {'Name': 'joachim-uche', 'CreationDate': 'datetime.datetime(2023, 12, 20, 8, 15, 53, tzinfo=tzutc())'}, {'Name': 'segun-lawal', 'CreationDate': 'datetime.datetime(2023, 12, 20, 8, 17, 31, tzinfo=tzutc())'}, {'Name': 'yimika', 'CreationDate': 'datetime.datetime(2023, 12, 20, 8, 42, 3, tzinfo=tzutc())'}], 'Owner': {'ID': 'fb45f4974068284041efc3a13b3321d277bb56c0029e7e6017f7cea998c249de'}}\n"
     ]
    }
   ],
   "source": [
    "print(bucket_list_response)"
   ]
  },
  {
   "cell_type": "code",
   "execution_count": 7,
   "id": "4e85f016",
   "metadata": {},
   "outputs": [
    {
     "name": "stdout",
     "output_type": "stream",
     "text": [
      "dict_keys(['ResponseMetadata', 'Buckets', 'Owner'])\n"
     ]
    }
   ],
   "source": [
    "# Retrieve all the keys of the nested dictionary above at once\n",
    "\n",
    "print(bucket_list_response.keys())"
   ]
  },
  {
   "cell_type": "code",
   "execution_count": 8,
   "id": "ad28ebb0",
   "metadata": {},
   "outputs": [
    {
     "name": "stdout",
     "output_type": "stream",
     "text": [
      "[{'Name': 'amanda-igwe', 'CreationDate': 'datetime.datetime(2023, 12, 20, 8, 19, 13, tzinfo=tzutc())'}, {'Name': 'chinyere', 'CreationDate': 'datetime.datetime(2023, 12, 20, 8, 17, 54, tzinfo=tzutc())'}, {'Name': 'chukwujekwu-anah', 'CreationDate': 'datetime.datetime(2023, 12, 20, 8, 17, 3, tzinfo=tzutc())'}, {'Name': 'joachim-uche', 'CreationDate': 'datetime.datetime(2023, 12, 20, 8, 15, 53, tzinfo=tzutc())'}, {'Name': 'segun-lawal', 'CreationDate': 'datetime.datetime(2023, 12, 20, 8, 17, 31, tzinfo=tzutc())'}, {'Name': 'yimika', 'CreationDate': 'datetime.datetime(2023, 12, 20, 8, 42, 3, tzinfo=tzutc())'}]\n"
     ]
    }
   ],
   "source": [
    "# Retrieve individually the bucket names one by one - first assign the variable to ind_key\n",
    "\n",
    "ind_key = bucket_list_response[\"Buckets\"]\n",
    "\n",
    "\n",
    "print(ind_key)"
   ]
  },
  {
   "cell_type": "code",
   "execution_count": 49,
   "id": "5fec1f40",
   "metadata": {},
   "outputs": [
    {
     "name": "stdout",
     "output_type": "stream",
     "text": [
      "{'Name': 'amanda-igwe', 'CreationDate': 'datetime.datetime(2023, 12, 20, 8, 19, 13, tzinfo=tzutc())'}\n"
     ]
    }
   ],
   "source": [
    "# fetching the individual dict names by assigning variables to each before fetching the bucket names\n",
    "\n",
    "# you can use this simple method instead ind_dict_ama = ind_key[0][\"Name\"] print(ind_dict_ama)\n",
    "\n",
    "# ind_dict_chi = ind_key[1][\"Name\"] print(ind_dict_chi) continue for others..\n",
    "\n",
    "\n",
    "\n",
    "\n",
    "ind_dict_ama = ind_key[0]\n",
    "\n",
    "print(ind_dict_ama)"
   ]
  },
  {
   "cell_type": "code",
   "execution_count": 10,
   "id": "01fc4f8c",
   "metadata": {},
   "outputs": [
    {
     "name": "stdout",
     "output_type": "stream",
     "text": [
      "amanda-igwe\n"
     ]
    }
   ],
   "source": [
    "# now fetching first bucket name\n",
    "\n",
    "bucket_name_first = ind_dict_ama[\"Name\"]\n",
    "\n",
    "print(bucket_name_first)"
   ]
  },
  {
   "cell_type": "code",
   "execution_count": 11,
   "id": "65923fe9",
   "metadata": {},
   "outputs": [
    {
     "name": "stdout",
     "output_type": "stream",
     "text": [
      "{'Name': 'chinyere', 'CreationDate': 'datetime.datetime(2023, 12, 20, 8, 17, 54, tzinfo=tzutc())'}\n"
     ]
    }
   ],
   "source": [
    "# fetching the individual dict names by assigning variables to each before fetching the bucket names\n",
    "\n",
    "ind_dict_chi = ind_key[1]\n",
    "\n",
    "print(ind_dict_chi)"
   ]
  },
  {
   "cell_type": "code",
   "execution_count": 12,
   "id": "6b2770db",
   "metadata": {},
   "outputs": [
    {
     "name": "stdout",
     "output_type": "stream",
     "text": [
      "chinyere\n"
     ]
    }
   ],
   "source": [
    "# now fetching second bucket name\n",
    "\n",
    "bucket_name_second = ind_dict_chi[\"Name\"]\n",
    "\n",
    "print(bucket_name_second)"
   ]
  },
  {
   "cell_type": "code",
   "execution_count": 13,
   "id": "2a4d98dc",
   "metadata": {},
   "outputs": [
    {
     "name": "stdout",
     "output_type": "stream",
     "text": [
      "{'Name': 'chukwujekwu-anah', 'CreationDate': 'datetime.datetime(2023, 12, 20, 8, 17, 3, tzinfo=tzutc())'}\n"
     ]
    }
   ],
   "source": [
    "# fetching the individual dict names by assigning variables to each before fetching the bucket names\n",
    "\n",
    "ind_dict_chu = ind_key[2]\n",
    "\n",
    "print(ind_dict_chu)"
   ]
  },
  {
   "cell_type": "code",
   "execution_count": 14,
   "id": "c1910f1a",
   "metadata": {},
   "outputs": [
    {
     "name": "stdout",
     "output_type": "stream",
     "text": [
      "chukwujekwu-anah\n"
     ]
    }
   ],
   "source": [
    "# now fetching third bucket name\n",
    "\n",
    "bucket_name_third = ind_dict_chu[\"Name\"]\n",
    "\n",
    "print(bucket_name_third)"
   ]
  },
  {
   "cell_type": "code",
   "execution_count": 15,
   "id": "605cdf57",
   "metadata": {},
   "outputs": [
    {
     "name": "stdout",
     "output_type": "stream",
     "text": [
      "{'Name': 'joachim-uche', 'CreationDate': 'datetime.datetime(2023, 12, 20, 8, 15, 53, tzinfo=tzutc())'}\n"
     ]
    }
   ],
   "source": [
    "# fetching the individual dict names by assigning variables to each before fetching the bucket names\n",
    "\n",
    "ind_dict_joa = ind_key[3]\n",
    "\n",
    "print(ind_dict_joa)"
   ]
  },
  {
   "cell_type": "code",
   "execution_count": 16,
   "id": "b7fe774c",
   "metadata": {},
   "outputs": [
    {
     "name": "stdout",
     "output_type": "stream",
     "text": [
      "joachim-uche\n"
     ]
    }
   ],
   "source": [
    "# now fetching fourth bucket name\n",
    "\n",
    "bucket_name_fourth = ind_dict_joa[\"Name\"]\n",
    "\n",
    "print(bucket_name_fourth)"
   ]
  },
  {
   "cell_type": "code",
   "execution_count": 17,
   "id": "3c0c1919",
   "metadata": {},
   "outputs": [
    {
     "name": "stdout",
     "output_type": "stream",
     "text": [
      "{'Name': 'segun-lawal', 'CreationDate': 'datetime.datetime(2023, 12, 20, 8, 17, 31, tzinfo=tzutc())'}\n"
     ]
    }
   ],
   "source": [
    "# fetching the individual dict names by assigning variables to each before fetching the bucket names\n",
    "\n",
    "ind_dict_seg = ind_key[4]\n",
    "\n",
    "print(ind_dict_seg)"
   ]
  },
  {
   "cell_type": "code",
   "execution_count": 18,
   "id": "8fcd0bb6",
   "metadata": {},
   "outputs": [
    {
     "name": "stdout",
     "output_type": "stream",
     "text": [
      "segun-lawal\n"
     ]
    }
   ],
   "source": [
    "# now fetching fifth bucket name\n",
    "\n",
    "bucket_name_fifth = ind_dict_seg[\"Name\"]\n",
    "\n",
    "print(bucket_name_fifth)"
   ]
  },
  {
   "cell_type": "code",
   "execution_count": 19,
   "id": "e44735fb",
   "metadata": {},
   "outputs": [
    {
     "name": "stdout",
     "output_type": "stream",
     "text": [
      "{'Name': 'yimika', 'CreationDate': 'datetime.datetime(2023, 12, 20, 8, 42, 3, tzinfo=tzutc())'}\n"
     ]
    }
   ],
   "source": [
    "# fetching the individual dict names by assigning variables to each before fetching the bucket names\n",
    "\n",
    "ind_dict_yim = ind_key[5]\n",
    "\n",
    "print(ind_dict_yim)"
   ]
  },
  {
   "cell_type": "code",
   "execution_count": 20,
   "id": "5383c4d6",
   "metadata": {},
   "outputs": [
    {
     "name": "stdout",
     "output_type": "stream",
     "text": [
      "yimika\n"
     ]
    }
   ],
   "source": [
    "# now fetching sixth bucket name\n",
    "\n",
    "bucket_name_sixth = ind_dict_yim[\"Name\"]\n",
    "\n",
    "print(bucket_name_sixth)"
   ]
  },
  {
   "cell_type": "markdown",
   "id": "703a71a4",
   "metadata": {},
   "source": [
    "##### Retrieve the 6 values for the CreationDate Keys\n",
    "\n"
   ]
  },
  {
   "cell_type": "code",
   "execution_count": 21,
   "id": "6054bcca",
   "metadata": {},
   "outputs": [
    {
     "name": "stdout",
     "output_type": "stream",
     "text": [
      "datetime.datetime(2023, 12, 20, 8, 19, 13, tzinfo=tzutc())\n"
     ]
    }
   ],
   "source": [
    "# now fetching first bucket CreationDate value\n",
    "\n",
    "bucket_creat_first = ind_dict_ama[\"CreationDate\"]\n",
    "\n",
    "print(bucket_creat_first)"
   ]
  },
  {
   "cell_type": "code",
   "execution_count": 22,
   "id": "1b46f4a9",
   "metadata": {},
   "outputs": [
    {
     "name": "stdout",
     "output_type": "stream",
     "text": [
      "datetime.datetime(2023, 12, 20, 8, 17, 54, tzinfo=tzutc())\n"
     ]
    }
   ],
   "source": [
    "# now fetching second bucket CreationDate value\n",
    "\n",
    "bucket_creat_second = ind_dict_chi[\"CreationDate\"]\n",
    "\n",
    "print(bucket_creat_second)"
   ]
  },
  {
   "cell_type": "code",
   "execution_count": 23,
   "id": "6f5eefa2",
   "metadata": {},
   "outputs": [
    {
     "name": "stdout",
     "output_type": "stream",
     "text": [
      "datetime.datetime(2023, 12, 20, 8, 17, 3, tzinfo=tzutc())\n"
     ]
    }
   ],
   "source": [
    "# now fetching third bucket CreationDate value\n",
    "\n",
    "bucket_creat_third = ind_dict_chu[\"CreationDate\"]\n",
    "\n",
    "print(bucket_creat_third)"
   ]
  },
  {
   "cell_type": "code",
   "execution_count": 24,
   "id": "c1a79aa4",
   "metadata": {},
   "outputs": [
    {
     "name": "stdout",
     "output_type": "stream",
     "text": [
      "datetime.datetime(2023, 12, 20, 8, 15, 53, tzinfo=tzutc())\n"
     ]
    }
   ],
   "source": [
    "# now fetching fourth bucket CreationDate value\n",
    "\n",
    "bucket_creat_fourth = ind_dict_joa[\"CreationDate\"]\n",
    "\n",
    "print(bucket_creat_fourth)"
   ]
  },
  {
   "cell_type": "code",
   "execution_count": 25,
   "id": "027f269f",
   "metadata": {},
   "outputs": [
    {
     "name": "stdout",
     "output_type": "stream",
     "text": [
      "datetime.datetime(2023, 12, 20, 8, 17, 31, tzinfo=tzutc())\n"
     ]
    }
   ],
   "source": [
    "# now fetching fifth bucket CreationDate value\n",
    "\n",
    "bucket_creat_fifth = ind_dict_seg[\"CreationDate\"]\n",
    "\n",
    "print(bucket_creat_fifth)"
   ]
  },
  {
   "cell_type": "code",
   "execution_count": 26,
   "id": "870fe219",
   "metadata": {},
   "outputs": [
    {
     "name": "stdout",
     "output_type": "stream",
     "text": [
      "datetime.datetime(2023, 12, 20, 8, 42, 3, tzinfo=tzutc())\n"
     ]
    }
   ],
   "source": [
    "# now fetching sixth bucket CreationDate value\n",
    "\n",
    "bucket_creat_sixth = ind_dict_yim[\"CreationDate\"]\n",
    "\n",
    "print(bucket_creat_sixth)"
   ]
  },
  {
   "cell_type": "markdown",
   "id": "db141927",
   "metadata": {},
   "source": [
    "##### Retrieve the value of the key server"
   ]
  },
  {
   "cell_type": "code",
   "execution_count": 27,
   "id": "44d662e7",
   "metadata": {},
   "outputs": [
    {
     "name": "stdout",
     "output_type": "stream",
     "text": [
      "{'RequestId': 'NC6YGDVEN48S3EFG', 'HostId': '+FJnmTwAwoEfp0jignXRueR6Bc62MwN1aBvK3SAJJ9fH0Y+AAsaSoEyjHyz8ij6QefhFquWb5Yk=', 'HTTPStatusCode': 200, 'HTTPHeaders': {'x-amz-id-2': '+FJnmTwAwoEfp0jignXRueR6Bc62MwN1aBvK3SAJJ9fH0Y+AAsaSoEyjHyz8ij6QefhFquWb5Yk=', 'x-amz-request-id': 'NC6YGDVEN48S3EFG', 'date': 'Wed, 20 Dec 2023 08:42:20 GMT', 'content-type': 'application/xml', 'transfer-encoding': 'chunked', 'server': 'AmazonS3'}, 'RetryAttempts': 0}\n"
     ]
    }
   ],
   "source": [
    "# assign to a variable ser_key\n",
    "\n",
    "ser_key = bucket_list_response[\"ResponseMetadata\"]\n",
    "\n",
    "\n",
    "print(ser_key)"
   ]
  },
  {
   "cell_type": "code",
   "execution_count": 139,
   "id": "049c3375",
   "metadata": {},
   "outputs": [
    {
     "name": "stdout",
     "output_type": "stream",
     "text": [
      "{'x-amz-id-2': '+FJnmTwAwoEfp0jignXRueR6Bc62MwN1aBvK3SAJJ9fH0Y+AAsaSoEyjHyz8ij6QefhFquWb5Yk=', 'x-amz-request-id': 'NC6YGDVEN48S3EFG', 'date': 'Wed, 20 Dec 2023 08:42:20 GMT', 'content-type': 'application/xml', 'transfer-encoding': 'chunked', 'server': 'AmazonS3'}\n"
     ]
    }
   ],
   "source": [
    "# fetch the dict and assign it to a new variable\n",
    "\n",
    "# print(ser_key[\"HTTPHeaders\"][\"server\"])\n",
    "\n",
    "\n",
    "ser_key_dict = ser_key.get('HTTPHeaders')\n",
    "\n",
    "print(ser_key_dict)"
   ]
  },
  {
   "cell_type": "code",
   "execution_count": 140,
   "id": "df63f8f0",
   "metadata": {},
   "outputs": [
    {
     "name": "stdout",
     "output_type": "stream",
     "text": [
      "AmazonS3\n"
     ]
    }
   ],
   "source": [
    "# now fetch the server value\n",
    "\n",
    "ser_key_val = ser_key_dict.get(\"server\")\n",
    "\n",
    "print(ser_key_val)"
   ]
  },
  {
   "cell_type": "markdown",
   "id": "75d8f148",
   "metadata": {},
   "source": [
    "##### Retrieve value of the key ID"
   ]
  },
  {
   "cell_type": "code",
   "execution_count": 141,
   "id": "404dac37",
   "metadata": {},
   "outputs": [
    {
     "name": "stdout",
     "output_type": "stream",
     "text": [
      "{'ID': 'fb45f4974068284041efc3a13b3321d277bb56c0029e7e6017f7cea998c249de'}\n"
     ]
    }
   ],
   "source": [
    "# assigning a new variable to the dict_key Owner\n",
    "\n",
    "id_key = bucket_list_response[\"Owner\"]\n",
    "\n",
    "\n",
    "print(id_key)"
   ]
  },
  {
   "cell_type": "code",
   "execution_count": 142,
   "id": "14e6cc76",
   "metadata": {},
   "outputs": [
    {
     "name": "stdout",
     "output_type": "stream",
     "text": [
      "fb45f4974068284041efc3a13b3321d277bb56c0029e7e6017f7cea998c249de\n"
     ]
    }
   ],
   "source": [
    "# Retrieving the ID value\n",
    "\n",
    "\n",
    "id_key_val = id_key[\"ID\"]\n",
    "\n",
    "\n",
    "print(id_key_val)"
   ]
  },
  {
   "cell_type": "markdown",
   "id": "7141b52a",
   "metadata": {},
   "source": [
    "##### Extract all the bucket names and print as a single list"
   ]
  },
  {
   "cell_type": "code",
   "execution_count": 143,
   "id": "f2f57d00",
   "metadata": {},
   "outputs": [],
   "source": [
    "# printing the bucket names in one list . first create an empty list\n",
    "\n",
    "\n",
    "bucket_list = []\n"
   ]
  },
  {
   "cell_type": "code",
   "execution_count": 144,
   "id": "2b5b4e83",
   "metadata": {},
   "outputs": [],
   "source": [
    "# then append all the buckets names\n",
    "\n",
    "bucket_list.append(bucket_name_first)\n",
    "bucket_list.append(bucket_name_second)\n",
    "bucket_list.append(bucket_name_third)\n",
    "bucket_list.append(bucket_name_fourth)\n",
    "bucket_list.append(bucket_name_fifth)\n",
    "bucket_list.append(bucket_name_sixth)\n"
   ]
  },
  {
   "cell_type": "code",
   "execution_count": 145,
   "id": "4380510d",
   "metadata": {},
   "outputs": [
    {
     "name": "stdout",
     "output_type": "stream",
     "text": [
      "['amanda-igwe', 'chinyere', 'chukwujekwu-anah', 'joachim-uche', 'segun-lawal', 'yimika']\n"
     ]
    }
   ],
   "source": [
    "#print the list\n",
    "\n",
    "\n",
    "print(bucket_list)"
   ]
  },
  {
   "cell_type": "code",
   "execution_count": null,
   "id": "fa6a28b3",
   "metadata": {},
   "outputs": [],
   "source": []
  },
  {
   "cell_type": "code",
   "execution_count": null,
   "id": "0da101be",
   "metadata": {},
   "outputs": [],
   "source": []
  },
  {
   "cell_type": "code",
   "execution_count": null,
   "id": "b796ea23",
   "metadata": {},
   "outputs": [],
   "source": []
  },
  {
   "cell_type": "code",
   "execution_count": null,
   "id": "a2475564",
   "metadata": {},
   "outputs": [],
   "source": []
  }
 ],
 "metadata": {
  "kernelspec": {
   "display_name": "Python 3 (ipykernel)",
   "language": "python",
   "name": "python3"
  },
  "language_info": {
   "codemirror_mode": {
    "name": "ipython",
    "version": 3
   },
   "file_extension": ".py",
   "mimetype": "text/x-python",
   "name": "python",
   "nbconvert_exporter": "python",
   "pygments_lexer": "ipython3",
   "version": "3.11.5"
  }
 },
 "nbformat": 4,
 "nbformat_minor": 5
}
