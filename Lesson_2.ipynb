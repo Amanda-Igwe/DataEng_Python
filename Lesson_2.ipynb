{
 "cells": [
  {
   "cell_type": "markdown",
   "id": "996bb6fd",
   "metadata": {},
   "source": [
    "## PYTHON DATA STRUCTURES"
   ]
  },
  {
   "cell_type": "markdown",
   "id": "d02ee185",
   "metadata": {},
   "source": [
    "##### . List\n",
    "##### . Dictionary\n",
    "##### . Tuple\n",
    "##### . Set"
   ]
  },
  {
   "cell_type": "markdown",
   "id": "35c5e114",
   "metadata": {},
   "source": [
    "#### List"
   ]
  },
  {
   "cell_type": "code",
   "execution_count": 5,
   "id": "5639bfa4",
   "metadata": {},
   "outputs": [],
   "source": [
    "students = [\"mayowa\", \"chukwu\", \"yinka\", \"amanda\", \"chinyere\", \"Joachim\"]"
   ]
  },
  {
   "cell_type": "code",
   "execution_count": 6,
   "id": "b546ab40",
   "metadata": {},
   "outputs": [
    {
     "name": "stdout",
     "output_type": "stream",
     "text": [
      "['mayowa', 'chukwu', 'yinka', 'amanda', 'chinyere', 'Joachim']\n"
     ]
    }
   ],
   "source": [
    "print(students)"
   ]
  },
  {
   "cell_type": "code",
   "execution_count": 7,
   "id": "23b72bf9",
   "metadata": {},
   "outputs": [
    {
     "name": "stdout",
     "output_type": "stream",
     "text": [
      "<class 'list'>\n"
     ]
    }
   ],
   "source": [
    "print(type(students))"
   ]
  },
  {
   "cell_type": "code",
   "execution_count": 8,
   "id": "3d863390",
   "metadata": {},
   "outputs": [],
   "source": [
    "age = [23, 12, 19, 45, 35, 5]"
   ]
  },
  {
   "cell_type": "code",
   "execution_count": 9,
   "id": "ef60878f",
   "metadata": {},
   "outputs": [
    {
     "name": "stdout",
     "output_type": "stream",
     "text": [
      "[23, 12, 19, 45, 35, 5]\n"
     ]
    }
   ],
   "source": [
    "print(age)"
   ]
  },
  {
   "cell_type": "code",
   "execution_count": 10,
   "id": "f578a481",
   "metadata": {},
   "outputs": [
    {
     "name": "stdout",
     "output_type": "stream",
     "text": [
      "<class 'list'>\n"
     ]
    }
   ],
   "source": [
    "print(type(age))"
   ]
  },
  {
   "cell_type": "code",
   "execution_count": 11,
   "id": "d904cd83",
   "metadata": {},
   "outputs": [],
   "source": [
    "mayowa_info = [\"mayowa\", 13, \"Data Engineer\", True, 5.8]"
   ]
  },
  {
   "cell_type": "code",
   "execution_count": 12,
   "id": "451451ba",
   "metadata": {},
   "outputs": [
    {
     "name": "stdout",
     "output_type": "stream",
     "text": [
      "<class 'list'>\n"
     ]
    }
   ],
   "source": [
    "print(type(mayowa_info))"
   ]
  },
  {
   "cell_type": "markdown",
   "id": "ca4243a3",
   "metadata": {},
   "source": [
    "###### indexing / positioning"
   ]
  },
  {
   "cell_type": "markdown",
   "id": "20ab7a8f",
   "metadata": {},
   "source": [
    "M A Y O W A \n",
    "\n",
    "1 2 3 4 5 6      # human numbering\n",
    "\n",
    "0 1 2 3 4 5       # python numbering"
   ]
  },
  {
   "cell_type": "code",
   "execution_count": 14,
   "id": "7a9b6f6c",
   "metadata": {},
   "outputs": [],
   "source": [
    "# items in a list is called element\n",
    "\n",
    "cars = [\"toyota\", \"bmw\", \"benz\", \"honda\"]"
   ]
  },
  {
   "cell_type": "code",
   "execution_count": 15,
   "id": "99b54189",
   "metadata": {},
   "outputs": [
    {
     "name": "stdout",
     "output_type": "stream",
     "text": [
      "bmw\n"
     ]
    }
   ],
   "source": [
    "print(cars[1])"
   ]
  },
  {
   "cell_type": "code",
   "execution_count": 16,
   "id": "2da47459",
   "metadata": {},
   "outputs": [
    {
     "name": "stdout",
     "output_type": "stream",
     "text": [
      "benz\n"
     ]
    }
   ],
   "source": [
    "print(cars[2])"
   ]
  },
  {
   "cell_type": "code",
   "execution_count": 17,
   "id": "359ada6c",
   "metadata": {},
   "outputs": [
    {
     "name": "stdout",
     "output_type": "stream",
     "text": [
      "honda\n"
     ]
    }
   ],
   "source": [
    "print(cars[3])"
   ]
  },
  {
   "cell_type": "code",
   "execution_count": 19,
   "id": "431f6969",
   "metadata": {},
   "outputs": [
    {
     "name": "stdout",
     "output_type": "stream",
     "text": [
      "toyota\n"
     ]
    }
   ],
   "source": [
    "print(cars[0])"
   ]
  },
  {
   "cell_type": "code",
   "execution_count": 21,
   "id": "590dd134",
   "metadata": {},
   "outputs": [
    {
     "ename": "IndexError",
     "evalue": "list index out of range",
     "output_type": "error",
     "traceback": [
      "\u001b[1;31m---------------------------------------------------------------------------\u001b[0m",
      "\u001b[1;31mIndexError\u001b[0m                                Traceback (most recent call last)",
      "Cell \u001b[1;32mIn[21], line 3\u001b[0m\n\u001b[0;32m      1\u001b[0m \u001b[38;5;66;03m# obviously failed due to list doesnt have index/position 4\u001b[39;00m\n\u001b[1;32m----> 3\u001b[0m \u001b[38;5;28mprint\u001b[39m(cars[\u001b[38;5;241m4\u001b[39m])\n",
      "\u001b[1;31mIndexError\u001b[0m: list index out of range"
     ]
    }
   ],
   "source": [
    "# obviously failed due to list doesnt have index/position 4\n",
    "\n",
    "print(cars[4])"
   ]
  },
  {
   "cell_type": "code",
   "execution_count": 22,
   "id": "dc3d2eec",
   "metadata": {},
   "outputs": [],
   "source": [
    "cars = [\"toyota\", \"bmw\", \"benz\", \"honda\"]"
   ]
  },
  {
   "cell_type": "code",
   "execution_count": 23,
   "id": "1356b349",
   "metadata": {},
   "outputs": [
    {
     "name": "stdout",
     "output_type": "stream",
     "text": [
      "honda\n"
     ]
    }
   ],
   "source": [
    "print(cars[-1])"
   ]
  },
  {
   "cell_type": "code",
   "execution_count": 24,
   "id": "d769e7b0",
   "metadata": {},
   "outputs": [
    {
     "name": "stdout",
     "output_type": "stream",
     "text": [
      "4\n"
     ]
    }
   ],
   "source": [
    "print(len(cars))"
   ]
  },
  {
   "cell_type": "code",
   "execution_count": 25,
   "id": "14ff5959",
   "metadata": {},
   "outputs": [],
   "source": [
    "name = \"mayowa\""
   ]
  },
  {
   "cell_type": "code",
   "execution_count": 26,
   "id": "b34fa76e",
   "metadata": {},
   "outputs": [
    {
     "name": "stdout",
     "output_type": "stream",
     "text": [
      "6\n"
     ]
    }
   ],
   "source": [
    "print(len(name))"
   ]
  },
  {
   "cell_type": "code",
   "execution_count": 27,
   "id": "27fc24ba",
   "metadata": {},
   "outputs": [],
   "source": [
    "age = 45"
   ]
  },
  {
   "cell_type": "code",
   "execution_count": 28,
   "id": "f4be35b3",
   "metadata": {},
   "outputs": [
    {
     "ename": "TypeError",
     "evalue": "object of type 'int' has no len()",
     "output_type": "error",
     "traceback": [
      "\u001b[1;31m---------------------------------------------------------------------------\u001b[0m",
      "\u001b[1;31mTypeError\u001b[0m                                 Traceback (most recent call last)",
      "Cell \u001b[1;32mIn[28], line 1\u001b[0m\n\u001b[1;32m----> 1\u001b[0m \u001b[38;5;28mprint\u001b[39m(\u001b[38;5;28mlen\u001b[39m(age))\n",
      "\u001b[1;31mTypeError\u001b[0m: object of type 'int' has no len()"
     ]
    }
   ],
   "source": [
    "print(len(age))"
   ]
  },
  {
   "cell_type": "code",
   "execution_count": 29,
   "id": "787c691f",
   "metadata": {},
   "outputs": [],
   "source": [
    "bad_age_definition = \"45\""
   ]
  },
  {
   "cell_type": "code",
   "execution_count": 30,
   "id": "74171d8d",
   "metadata": {},
   "outputs": [
    {
     "name": "stdout",
     "output_type": "stream",
     "text": [
      "2\n"
     ]
    }
   ],
   "source": [
    "print(len(bad_age_definition))"
   ]
  },
  {
   "cell_type": "code",
   "execution_count": 31,
   "id": "9a248f5b",
   "metadata": {},
   "outputs": [],
   "source": [
    "lst = [\" \", \"25\", 38,\"yellow\"]"
   ]
  },
  {
   "cell_type": "code",
   "execution_count": 32,
   "id": "339c5412",
   "metadata": {},
   "outputs": [
    {
     "name": "stdout",
     "output_type": "stream",
     "text": [
      " \n"
     ]
    }
   ],
   "source": [
    "print(lst[0])"
   ]
  },
  {
   "cell_type": "code",
   "execution_count": null,
   "id": "0c8a4bbc",
   "metadata": {},
   "outputs": [],
   "source": []
  }
 ],
 "metadata": {
  "kernelspec": {
   "display_name": "Python 3 (ipykernel)",
   "language": "python",
   "name": "python3"
  },
  "language_info": {
   "codemirror_mode": {
    "name": "ipython",
    "version": 3
   },
   "file_extension": ".py",
   "mimetype": "text/x-python",
   "name": "python",
   "nbconvert_exporter": "python",
   "pygments_lexer": "ipython3",
   "version": "3.11.5"
  }
 },
 "nbformat": 4,
 "nbformat_minor": 5
}
