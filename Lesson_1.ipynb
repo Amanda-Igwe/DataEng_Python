{
 "cells": [
  {
   "cell_type": "markdown",
   "id": "93d78d82",
   "metadata": {},
   "source": [
    "# Python Variables"
   ]
  },
  {
   "cell_type": "code",
   "execution_count": 1,
   "id": "d8b52a9c",
   "metadata": {},
   "outputs": [],
   "source": [
    "x = 10"
   ]
  },
  {
   "cell_type": "code",
   "execution_count": 2,
   "id": "326bdb32",
   "metadata": {},
   "outputs": [],
   "source": [
    "age =25"
   ]
  },
  {
   "cell_type": "code",
   "execution_count": 3,
   "id": "8c83e5b1",
   "metadata": {},
   "outputs": [],
   "source": [
    "address = \"4 random street, Lagos\""
   ]
  },
  {
   "cell_type": "code",
   "execution_count": 4,
   "id": "8c842c05",
   "metadata": {},
   "outputs": [
    {
     "name": "stdout",
     "output_type": "stream",
     "text": [
      "4 random street, Lagos\n"
     ]
    }
   ],
   "source": [
    "print(address)"
   ]
  },
  {
   "cell_type": "code",
   "execution_count": null,
   "id": "0f9bdd4f",
   "metadata": {},
   "outputs": [],
   "source": [
    "x=10"
   ]
  },
  {
   "cell_type": "code",
   "execution_count": 11,
   "id": "44f09b4a",
   "metadata": {},
   "outputs": [
    {
     "name": "stdout",
     "output_type": "stream",
     "text": [
      "5\n"
     ]
    }
   ],
   "source": [
    "print(x)"
   ]
  },
  {
   "cell_type": "code",
   "execution_count": 5,
   "id": "0a2a0b86",
   "metadata": {},
   "outputs": [],
   "source": [
    "is_married = True"
   ]
  },
  {
   "cell_type": "code",
   "execution_count": 6,
   "id": "0d4b503c",
   "metadata": {},
   "outputs": [
    {
     "name": "stdout",
     "output_type": "stream",
     "text": [
      "True\n"
     ]
    }
   ],
   "source": [
    "print(is_married)"
   ]
  },
  {
   "cell_type": "markdown",
   "id": "ad3388cc",
   "metadata": {},
   "source": [
    "## PYTHON COMMENTS"
   ]
  },
  {
   "cell_type": "code",
   "execution_count": 1,
   "id": "c4a3d4ec",
   "metadata": {},
   "outputs": [],
   "source": [
    "# This is a comment "
   ]
  },
  {
   "cell_type": "code",
   "execution_count": 2,
   "id": "d128ac8f",
   "metadata": {},
   "outputs": [],
   "source": [
    "# This is a variable with value called mayowa\n",
    "\n",
    "first_name = \"mayowa\""
   ]
  },
  {
   "cell_type": "code",
   "execution_count": 3,
   "id": "58f8b00f",
   "metadata": {},
   "outputs": [
    {
     "name": "stdout",
     "output_type": "stream",
     "text": [
      "mayowa\n"
     ]
    }
   ],
   "source": [
    "# printing the value of the first name variable\n",
    "\n",
    "print(first_name)"
   ]
  },
  {
   "cell_type": "markdown",
   "id": "28c2af41",
   "metadata": {},
   "source": [
    "## DATA TYPE CHECKS"
   ]
  },
  {
   "cell_type": "code",
   "execution_count": 4,
   "id": "347f745d",
   "metadata": {},
   "outputs": [],
   "source": [
    "age = 25"
   ]
  },
  {
   "cell_type": "code",
   "execution_count": 5,
   "id": "55063e09",
   "metadata": {},
   "outputs": [
    {
     "name": "stdout",
     "output_type": "stream",
     "text": [
      "25\n"
     ]
    }
   ],
   "source": [
    "print(age)"
   ]
  },
  {
   "cell_type": "code",
   "execution_count": 6,
   "id": "dedd3991",
   "metadata": {},
   "outputs": [
    {
     "name": "stdout",
     "output_type": "stream",
     "text": [
      "<class 'int'>\n"
     ]
    }
   ],
   "source": [
    "# checking the data type of variable age\n",
    "\n",
    "print(type(age))"
   ]
  },
  {
   "cell_type": "code",
   "execution_count": 7,
   "id": "8aec2d18",
   "metadata": {},
   "outputs": [],
   "source": [
    "is_student =False"
   ]
  },
  {
   "cell_type": "code",
   "execution_count": 8,
   "id": "ee78941f",
   "metadata": {},
   "outputs": [
    {
     "name": "stdout",
     "output_type": "stream",
     "text": [
      "<class 'bool'>\n"
     ]
    }
   ],
   "source": [
    "print(type(is_student))"
   ]
  },
  {
   "cell_type": "code",
   "execution_count": 9,
   "id": "43ab20e4",
   "metadata": {},
   "outputs": [],
   "source": [
    "height = 8.3"
   ]
  },
  {
   "cell_type": "code",
   "execution_count": 10,
   "id": "8439c7a5",
   "metadata": {},
   "outputs": [
    {
     "name": "stdout",
     "output_type": "stream",
     "text": [
      "<class 'float'>\n"
     ]
    }
   ],
   "source": [
    "print(type(height))"
   ]
  },
  {
   "cell_type": "code",
   "execution_count": 11,
   "id": "42e398b3",
   "metadata": {},
   "outputs": [],
   "source": [
    "name = \"amanda\""
   ]
  },
  {
   "cell_type": "code",
   "execution_count": 12,
   "id": "199f34a7",
   "metadata": {},
   "outputs": [
    {
     "name": "stdout",
     "output_type": "stream",
     "text": [
      "<class 'str'>\n"
     ]
    }
   ],
   "source": [
    "print(type(name))"
   ]
  },
  {
   "cell_type": "code",
   "execution_count": 13,
   "id": "f90a1c01",
   "metadata": {},
   "outputs": [],
   "source": [
    "corrupt_number = \"5\""
   ]
  },
  {
   "cell_type": "code",
   "execution_count": 14,
   "id": "e55bdf2e",
   "metadata": {},
   "outputs": [
    {
     "name": "stdout",
     "output_type": "stream",
     "text": [
      "5\n"
     ]
    }
   ],
   "source": [
    "print(corrupt_number)"
   ]
  },
  {
   "cell_type": "code",
   "execution_count": 15,
   "id": "08d1d1be",
   "metadata": {},
   "outputs": [
    {
     "name": "stdout",
     "output_type": "stream",
     "text": [
      "<class 'str'>\n"
     ]
    }
   ],
   "source": [
    "print(type(corrupt_number))"
   ]
  },
  {
   "cell_type": "markdown",
   "id": "b7fba388",
   "metadata": {},
   "source": [
    "#### DATA TYPE CASTING / CONVERSION"
   ]
  },
  {
   "cell_type": "code",
   "execution_count": 16,
   "id": "939d853f",
   "metadata": {},
   "outputs": [],
   "source": [
    "corrupt_number = \"29\""
   ]
  },
  {
   "cell_type": "code",
   "execution_count": 17,
   "id": "4d66c777",
   "metadata": {},
   "outputs": [
    {
     "name": "stdout",
     "output_type": "stream",
     "text": [
      "29\n"
     ]
    }
   ],
   "source": [
    "print(corrupt_number)"
   ]
  },
  {
   "cell_type": "code",
   "execution_count": 18,
   "id": "df1fd0d2",
   "metadata": {},
   "outputs": [
    {
     "ename": "TypeError",
     "evalue": "can only concatenate str (not \"int\") to str",
     "output_type": "error",
     "traceback": [
      "\u001b[1;31m------------------------------------------------------------------\u001b[0m",
      "\u001b[1;31mTypeError\u001b[0m                        Traceback (most recent call last)",
      "Cell \u001b[1;32mIn[18], line 3\u001b[0m\n\u001b[0;32m      1\u001b[0m \u001b[38;5;66;03m# adding 1 with a string number will result to error\u001b[39;00m\n\u001b[1;32m----> 3\u001b[0m \u001b[38;5;28mprint\u001b[39m(corrupt_number \u001b[38;5;241m+\u001b[39m \u001b[38;5;241m1\u001b[39m)\n",
      "\u001b[1;31mTypeError\u001b[0m: can only concatenate str (not \"int\") to str"
     ]
    }
   ],
   "source": [
    "# adding 1 with a string number will result to error\n",
    "\n",
    "print(corrupt_number + 1)"
   ]
  },
  {
   "cell_type": "code",
   "execution_count": 19,
   "id": "76aa1490",
   "metadata": {},
   "outputs": [],
   "source": [
    "cleaned_data = int(corrupt_number)"
   ]
  },
  {
   "cell_type": "code",
   "execution_count": 20,
   "id": "1dc41949",
   "metadata": {},
   "outputs": [
    {
     "name": "stdout",
     "output_type": "stream",
     "text": [
      "29\n"
     ]
    }
   ],
   "source": [
    "print(cleaned_data)"
   ]
  },
  {
   "cell_type": "code",
   "execution_count": 21,
   "id": "d57332d0",
   "metadata": {},
   "outputs": [
    {
     "name": "stdout",
     "output_type": "stream",
     "text": [
      "<class 'int'>\n"
     ]
    }
   ],
   "source": [
    "print(type(cleaned_data))"
   ]
  },
  {
   "cell_type": "code",
   "execution_count": 22,
   "id": "81fe957a",
   "metadata": {},
   "outputs": [
    {
     "name": "stdout",
     "output_type": "stream",
     "text": [
      "<class 'str'>\n"
     ]
    }
   ],
   "source": [
    "print(type(corrupt_number))"
   ]
  },
  {
   "cell_type": "code",
   "execution_count": 23,
   "id": "86baa78a",
   "metadata": {},
   "outputs": [],
   "source": [
    "weight = \"56.7\""
   ]
  },
  {
   "cell_type": "code",
   "execution_count": 24,
   "id": "3fe93079",
   "metadata": {},
   "outputs": [
    {
     "name": "stdout",
     "output_type": "stream",
     "text": [
      "56.7\n"
     ]
    }
   ],
   "source": [
    "print(weight)"
   ]
  },
  {
   "cell_type": "code",
   "execution_count": 25,
   "id": "7b95e7b5",
   "metadata": {},
   "outputs": [
    {
     "name": "stdout",
     "output_type": "stream",
     "text": [
      "<class 'str'>\n"
     ]
    }
   ],
   "source": [
    "print(type(weight))"
   ]
  },
  {
   "cell_type": "code",
   "execution_count": 26,
   "id": "86e3dd80",
   "metadata": {},
   "outputs": [],
   "source": [
    "cleaned_weight = float(weight)"
   ]
  },
  {
   "cell_type": "code",
   "execution_count": 27,
   "id": "2e06a8ef",
   "metadata": {},
   "outputs": [
    {
     "name": "stdout",
     "output_type": "stream",
     "text": [
      "56.7\n"
     ]
    }
   ],
   "source": [
    "print(cleaned_weight)"
   ]
  },
  {
   "cell_type": "code",
   "execution_count": 28,
   "id": "1f501a77",
   "metadata": {},
   "outputs": [
    {
     "name": "stdout",
     "output_type": "stream",
     "text": [
      "<class 'float'>\n"
     ]
    }
   ],
   "source": [
    "print(type(cleaned_weight))"
   ]
  },
  {
   "cell_type": "code",
   "execution_count": 29,
   "id": "bba45a4c",
   "metadata": {},
   "outputs": [],
   "source": [
    "number = 10"
   ]
  },
  {
   "cell_type": "code",
   "execution_count": 30,
   "id": "e925375b",
   "metadata": {},
   "outputs": [],
   "source": [
    "new_number = float(number)"
   ]
  },
  {
   "cell_type": "code",
   "execution_count": 31,
   "id": "6c875c27",
   "metadata": {},
   "outputs": [
    {
     "name": "stdout",
     "output_type": "stream",
     "text": [
      "10.0\n"
     ]
    }
   ],
   "source": [
    "print(new_number)"
   ]
  },
  {
   "cell_type": "code",
   "execution_count": 32,
   "id": "8538a6ab",
   "metadata": {},
   "outputs": [
    {
     "name": "stdout",
     "output_type": "stream",
     "text": [
      "<class 'float'>\n"
     ]
    }
   ],
   "source": [
    "print(type(new_number))"
   ]
  },
  {
   "cell_type": "code",
   "execution_count": 33,
   "id": "24531001",
   "metadata": {},
   "outputs": [],
   "source": [
    "x = 5.9"
   ]
  },
  {
   "cell_type": "code",
   "execution_count": 34,
   "id": "ace71dd5",
   "metadata": {},
   "outputs": [],
   "source": [
    "new_x = int(x)"
   ]
  },
  {
   "cell_type": "code",
   "execution_count": 35,
   "id": "ea827e1d",
   "metadata": {},
   "outputs": [
    {
     "name": "stdout",
     "output_type": "stream",
     "text": [
      "5\n"
     ]
    }
   ],
   "source": [
    "print(new_x)"
   ]
  },
  {
   "cell_type": "code",
   "execution_count": 36,
   "id": "fe23d05b",
   "metadata": {},
   "outputs": [],
   "source": [
    "rounded_x = round(x)"
   ]
  },
  {
   "cell_type": "code",
   "execution_count": 37,
   "id": "f19a66ee",
   "metadata": {},
   "outputs": [
    {
     "name": "stdout",
     "output_type": "stream",
     "text": [
      "6\n"
     ]
    }
   ],
   "source": [
    "print(rounded_x)"
   ]
  },
  {
   "cell_type": "code",
   "execution_count": 38,
   "id": "644fd1c4",
   "metadata": {},
   "outputs": [],
   "source": [
    "y = 11.767"
   ]
  },
  {
   "cell_type": "code",
   "execution_count": 39,
   "id": "88a0d61e",
   "metadata": {},
   "outputs": [],
   "source": [
    "rounded_x_two_decimal = round(y, 2)"
   ]
  },
  {
   "cell_type": "code",
   "execution_count": 40,
   "id": "f9cdaf5b",
   "metadata": {},
   "outputs": [
    {
     "name": "stdout",
     "output_type": "stream",
     "text": [
      "11.77\n"
     ]
    }
   ],
   "source": [
    "print(rounded_x_two_decimal)"
   ]
  },
  {
   "cell_type": "markdown",
   "id": "63c6a612",
   "metadata": {},
   "source": [
    "## CONCATENATION"
   ]
  },
  {
   "cell_type": "code",
   "execution_count": 1,
   "id": "672c8ee2",
   "metadata": {},
   "outputs": [],
   "source": [
    "first_name = \"mayowa\""
   ]
  },
  {
   "cell_type": "code",
   "execution_count": 2,
   "id": "97f0f190",
   "metadata": {},
   "outputs": [],
   "source": [
    "last_name = \"akinyele\""
   ]
  },
  {
   "cell_type": "code",
   "execution_count": 10,
   "id": "7757eeaf",
   "metadata": {},
   "outputs": [
    {
     "name": "stdout",
     "output_type": "stream",
     "text": [
      "mayowaakinyele\n"
     ]
    }
   ],
   "source": [
    "print(first_name  +   last_name)"
   ]
  },
  {
   "cell_type": "code",
   "execution_count": 8,
   "id": "c4fd2efa",
   "metadata": {},
   "outputs": [
    {
     "name": "stdout",
     "output_type": "stream",
     "text": [
      "how are you\n"
     ]
    }
   ],
   "source": [
    "print(\"how\" + \" are\" + \" you\")"
   ]
  },
  {
   "cell_type": "markdown",
   "id": "75cd5b26",
   "metadata": {},
   "source": [
    "## Multiline Strings"
   ]
  },
  {
   "cell_type": "code",
   "execution_count": 13,
   "id": "333bb71b",
   "metadata": {},
   "outputs": [],
   "source": [
    "name = \"\"\"\"Hey, how are you,\n",
    "my name is Amanda,\n",
    "I live in Nigeria\"\"\""
   ]
  },
  {
   "cell_type": "code",
   "execution_count": 14,
   "id": "2b9fc320",
   "metadata": {},
   "outputs": [
    {
     "name": "stdout",
     "output_type": "stream",
     "text": [
      "\"Hey, how are you,\n",
      "my name is Amanda,\n",
      "I live in Nigeria\n"
     ]
    }
   ],
   "source": [
    "print(name)"
   ]
  },
  {
   "cell_type": "markdown",
   "id": "2de57c9c",
   "metadata": {},
   "source": [
    "### USER INPUT"
   ]
  },
  {
   "cell_type": "code",
   "execution_count": 17,
   "id": "760da6a3",
   "metadata": {},
   "outputs": [
    {
     "name": "stdout",
     "output_type": "stream",
     "text": [
      "please what is your age:20\n"
     ]
    }
   ],
   "source": [
    "question = int(input(\"please what is your age:\"))"
   ]
  },
  {
   "cell_type": "code",
   "execution_count": 19,
   "id": "e6bf206f",
   "metadata": {},
   "outputs": [
    {
     "name": "stdout",
     "output_type": "stream",
     "text": [
      "<class 'int'>\n"
     ]
    }
   ],
   "source": [
    "print(type(question))"
   ]
  },
  {
   "cell_type": "code",
   "execution_count": 20,
   "id": "177e1c96",
   "metadata": {},
   "outputs": [],
   "source": [
    "new_age = question + 10"
   ]
  },
  {
   "cell_type": "markdown",
   "id": "0372fb0c",
   "metadata": {},
   "source": [
    "## STRING INTERPOLATION"
   ]
  },
  {
   "cell_type": "code",
   "execution_count": 21,
   "id": "c298aac2",
   "metadata": {},
   "outputs": [],
   "source": [
    "age = 38"
   ]
  },
  {
   "cell_type": "code",
   "execution_count": 22,
   "id": "9d1f5dbf",
   "metadata": {},
   "outputs": [
    {
     "name": "stdout",
     "output_type": "stream",
     "text": [
      "38\n"
     ]
    }
   ],
   "source": [
    "print(age)"
   ]
  },
  {
   "cell_type": "code",
   "execution_count": 23,
   "id": "317ed185",
   "metadata": {},
   "outputs": [
    {
     "name": "stdout",
     "output_type": "stream",
     "text": [
      "my age is 38\n"
     ]
    }
   ],
   "source": [
    "print(\"my age is\", age)"
   ]
  },
  {
   "cell_type": "code",
   "execution_count": 24,
   "id": "529d62c7",
   "metadata": {},
   "outputs": [
    {
     "name": "stdout",
     "output_type": "stream",
     "text": [
      "my name is Amanda, I am from Nigeria and I am 38 years old\n"
     ]
    }
   ],
   "source": [
    "print(f\"my name is Amanda, I am from Nigeria and I am {age} years old\")"
   ]
  },
  {
   "cell_type": "markdown",
   "id": "4a154c29",
   "metadata": {},
   "source": [
    "### STRING METHODS OR FUNCTIONS"
   ]
  },
  {
   "cell_type": "code",
   "execution_count": 1,
   "id": "f9f6e2c5",
   "metadata": {},
   "outputs": [],
   "source": [
    "name = \"Amanda\""
   ]
  },
  {
   "cell_type": "code",
   "execution_count": 2,
   "id": "7986397c",
   "metadata": {},
   "outputs": [
    {
     "name": "stdout",
     "output_type": "stream",
     "text": [
      "AMANDA\n"
     ]
    }
   ],
   "source": [
    "print(name.upper())"
   ]
  },
  {
   "cell_type": "code",
   "execution_count": 3,
   "id": "bde82116",
   "metadata": {},
   "outputs": [],
   "source": [
    "last_name = \"Igwe\""
   ]
  },
  {
   "cell_type": "code",
   "execution_count": 4,
   "id": "c7b4a53e",
   "metadata": {},
   "outputs": [
    {
     "name": "stdout",
     "output_type": "stream",
     "text": [
      "amanda\n"
     ]
    }
   ],
   "source": [
    "print(name.lower())"
   ]
  },
  {
   "cell_type": "code",
   "execution_count": 5,
   "id": "0b755624",
   "metadata": {},
   "outputs": [],
   "source": [
    "address = \"no 8 adebayo street\""
   ]
  },
  {
   "cell_type": "code",
   "execution_count": 6,
   "id": "8f5dccdc",
   "metadata": {},
   "outputs": [
    {
     "name": "stdout",
     "output_type": "stream",
     "text": [
      "2\n"
     ]
    }
   ],
   "source": [
    "print(address.count(\"a\"))"
   ]
  },
  {
   "cell_type": "code",
   "execution_count": 7,
   "id": "2020c7a1",
   "metadata": {},
   "outputs": [],
   "source": [
    "car = \"Benz\""
   ]
  },
  {
   "cell_type": "code",
   "execution_count": 9,
   "id": "d182d06b",
   "metadata": {},
   "outputs": [
    {
     "name": "stdout",
     "output_type": "stream",
     "text": [
      "True\n"
     ]
    }
   ],
   "source": [
    "print(car.startswith(\"B\"))"
   ]
  },
  {
   "cell_type": "code",
   "execution_count": 11,
   "id": "5211dd35",
   "metadata": {},
   "outputs": [
    {
     "name": "stdout",
     "output_type": "stream",
     "text": [
      "False\n"
     ]
    }
   ],
   "source": [
    "print(car.endswith(\"B\"))"
   ]
  },
  {
   "cell_type": "code",
   "execution_count": 12,
   "id": "2dbcb85a",
   "metadata": {},
   "outputs": [],
   "source": [
    "corrupt_data = \"56y\""
   ]
  },
  {
   "cell_type": "code",
   "execution_count": 13,
   "id": "6306e434",
   "metadata": {},
   "outputs": [
    {
     "name": "stdout",
     "output_type": "stream",
     "text": [
      "False\n"
     ]
    }
   ],
   "source": [
    "print(corrupt_data.isnumeric())"
   ]
  },
  {
   "cell_type": "code",
   "execution_count": 14,
   "id": "9861821a",
   "metadata": {},
   "outputs": [],
   "source": [
    "corrupt_data =\"56\""
   ]
  },
  {
   "cell_type": "code",
   "execution_count": 15,
   "id": "1cd6fb6a",
   "metadata": {},
   "outputs": [
    {
     "name": "stdout",
     "output_type": "stream",
     "text": [
      "True\n"
     ]
    }
   ],
   "source": [
    "print(corrupt_data.isnumeric())"
   ]
  },
  {
   "cell_type": "code",
   "execution_count": 17,
   "id": "ce7b669b",
   "metadata": {},
   "outputs": [],
   "source": [
    "name = \"Aranda\""
   ]
  },
  {
   "cell_type": "code",
   "execution_count": 18,
   "id": "f3cfdaf3",
   "metadata": {},
   "outputs": [],
   "source": [
    "correct_name = name.replace(\"r\", \"m\")"
   ]
  },
  {
   "cell_type": "code",
   "execution_count": 19,
   "id": "ad0c5e58",
   "metadata": {},
   "outputs": [
    {
     "name": "stdout",
     "output_type": "stream",
     "text": [
      "Amanda\n"
     ]
    }
   ],
   "source": [
    "print(correct_name)"
   ]
  },
  {
   "cell_type": "code",
   "execution_count": 20,
   "id": "a3f76d54",
   "metadata": {},
   "outputs": [],
   "source": [
    "another_name = \"Igwe\""
   ]
  },
  {
   "cell_type": "code",
   "execution_count": 21,
   "id": "2d77a631",
   "metadata": {},
   "outputs": [],
   "source": [
    "new_name_version = another_name.replace(\"e\", \"f\")"
   ]
  },
  {
   "cell_type": "code",
   "execution_count": 22,
   "id": "96c89eb2",
   "metadata": {},
   "outputs": [
    {
     "name": "stdout",
     "output_type": "stream",
     "text": [
      "Igwf\n"
     ]
    }
   ],
   "source": [
    "print(new_name_version)"
   ]
  },
  {
   "cell_type": "code",
   "execution_count": 23,
   "id": "7505e206",
   "metadata": {},
   "outputs": [],
   "source": [
    "name = \"Aman da\""
   ]
  },
  {
   "cell_type": "code",
   "execution_count": 24,
   "id": "4fa56275",
   "metadata": {},
   "outputs": [
    {
     "name": "stdout",
     "output_type": "stream",
     "text": [
      "Aman da\n"
     ]
    }
   ],
   "source": [
    "print(name)"
   ]
  },
  {
   "cell_type": "code",
   "execution_count": 27,
   "id": "07efd8da",
   "metadata": {},
   "outputs": [],
   "source": [
    "cleaned_data =name.replace(\" \", \"\")"
   ]
  },
  {
   "cell_type": "code",
   "execution_count": 28,
   "id": "a167fda8",
   "metadata": {},
   "outputs": [
    {
     "name": "stdout",
     "output_type": "stream",
     "text": [
      "Amanda\n"
     ]
    }
   ],
   "source": [
    "print(cleaned_data)"
   ]
  },
  {
   "cell_type": "code",
   "execution_count": 29,
   "id": "3d7b2229",
   "metadata": {},
   "outputs": [],
   "source": [
    "age =25"
   ]
  },
  {
   "cell_type": "code",
   "execution_count": 30,
   "id": "01283a78",
   "metadata": {},
   "outputs": [
    {
     "ename": "AttributeError",
     "evalue": "'int' object has no attribute 'replace'",
     "output_type": "error",
     "traceback": [
      "\u001b[1;31m---------------------------------------------------------------------------\u001b[0m",
      "\u001b[1;31mAttributeError\u001b[0m                            Traceback (most recent call last)",
      "Cell \u001b[1;32mIn[30], line 1\u001b[0m\n\u001b[1;32m----> 1\u001b[0m \u001b[38;5;28mprint\u001b[39m(age\u001b[38;5;241m.\u001b[39mreplace(\u001b[38;5;124m\"\u001b[39m\u001b[38;5;124m2\u001b[39m\u001b[38;5;124m\"\u001b[39m, \u001b[38;5;124m\"\u001b[39m\u001b[38;5;124m9\u001b[39m\u001b[38;5;124m\"\u001b[39m))\n",
      "\u001b[1;31mAttributeError\u001b[0m: 'int' object has no attribute 'replace'"
     ]
    }
   ],
   "source": [
    "print(age.replace(\"2\", \"9\"))"
   ]
  },
  {
   "cell_type": "markdown",
   "id": "ecff84ff",
   "metadata": {},
   "source": [
    "###  PYTHON OPERATORS"
   ]
  },
  {
   "cell_type": "markdown",
   "id": "de6af56a",
   "metadata": {},
   "source": [
    "##### arithematic operators"
   ]
  },
  {
   "cell_type": "code",
   "execution_count": 31,
   "id": "8603f9f3",
   "metadata": {},
   "outputs": [
    {
     "name": "stdout",
     "output_type": "stream",
     "text": [
      "4\n"
     ]
    }
   ],
   "source": [
    "print(2 + 2)  # addition"
   ]
  },
  {
   "cell_type": "code",
   "execution_count": 32,
   "id": "d4a848b0",
   "metadata": {},
   "outputs": [
    {
     "name": "stdout",
     "output_type": "stream",
     "text": [
      "2\n"
     ]
    }
   ],
   "source": [
    "print(4 -2)  # subtraction"
   ]
  },
  {
   "cell_type": "code",
   "execution_count": 34,
   "id": "e72ae676",
   "metadata": {},
   "outputs": [
    {
     "name": "stdout",
     "output_type": "stream",
     "text": [
      "8\n"
     ]
    }
   ],
   "source": [
    "print(4 * 2)  # multiplication"
   ]
  },
  {
   "cell_type": "code",
   "execution_count": 35,
   "id": "2c6d0fcb",
   "metadata": {},
   "outputs": [
    {
     "name": "stdout",
     "output_type": "stream",
     "text": [
      "5.0\n"
     ]
    }
   ],
   "source": [
    "print(10 / 2)  # division"
   ]
  },
  {
   "cell_type": "code",
   "execution_count": 36,
   "id": "efe6e211",
   "metadata": {},
   "outputs": [
    {
     "name": "stdout",
     "output_type": "stream",
     "text": [
      "5\n"
     ]
    }
   ],
   "source": [
    "print(10 // 2)  # floor division"
   ]
  },
  {
   "cell_type": "code",
   "execution_count": 39,
   "id": "9f4ac75b",
   "metadata": {},
   "outputs": [
    {
     "name": "stdout",
     "output_type": "stream",
     "text": [
      "0\n"
     ]
    }
   ],
   "source": [
    "print(6 % 3)  # modulo"
   ]
  },
  {
   "cell_type": "code",
   "execution_count": 38,
   "id": "3547541c",
   "metadata": {},
   "outputs": [
    {
     "name": "stdout",
     "output_type": "stream",
     "text": [
      "2\n"
     ]
    }
   ],
   "source": [
    "print(5 % 3)"
   ]
  },
  {
   "cell_type": "code",
   "execution_count": 40,
   "id": "80797b68",
   "metadata": {},
   "outputs": [
    {
     "name": "stdout",
     "output_type": "stream",
     "text": [
      "8\n"
     ]
    }
   ],
   "source": [
    "print(2 ** 3) #exponentiation"
   ]
  },
  {
   "cell_type": "markdown",
   "id": "0a6856db",
   "metadata": {},
   "source": [
    "##### Comparison Operators"
   ]
  },
  {
   "cell_type": "code",
   "execution_count": 41,
   "id": "e5bb30b6",
   "metadata": {},
   "outputs": [
    {
     "name": "stdout",
     "output_type": "stream",
     "text": [
      "False\n"
     ]
    }
   ],
   "source": [
    "print(2 == \"2\") #equal"
   ]
  },
  {
   "cell_type": "code",
   "execution_count": 42,
   "id": "48a8f02f",
   "metadata": {},
   "outputs": [
    {
     "name": "stdout",
     "output_type": "stream",
     "text": [
      "True\n"
     ]
    }
   ],
   "source": [
    "print(2 != 5)  #not equal"
   ]
  },
  {
   "cell_type": "code",
   "execution_count": 43,
   "id": "bd614ff0",
   "metadata": {},
   "outputs": [
    {
     "name": "stdout",
     "output_type": "stream",
     "text": [
      "False\n"
     ]
    }
   ],
   "source": [
    "print(2 > 4) #greater than"
   ]
  },
  {
   "cell_type": "code",
   "execution_count": 44,
   "id": "c6315d9c",
   "metadata": {},
   "outputs": [
    {
     "name": "stdout",
     "output_type": "stream",
     "text": [
      "True\n"
     ]
    }
   ],
   "source": [
    "print(2 < 4) #less than"
   ]
  },
  {
   "cell_type": "code",
   "execution_count": 45,
   "id": "e7b97100",
   "metadata": {},
   "outputs": [
    {
     "name": "stdout",
     "output_type": "stream",
     "text": [
      "True\n"
     ]
    }
   ],
   "source": [
    "print(2 <= 2) #less or equal"
   ]
  },
  {
   "cell_type": "code",
   "execution_count": 46,
   "id": "c33d3389",
   "metadata": {},
   "outputs": [
    {
     "name": "stdout",
     "output_type": "stream",
     "text": [
      "False\n"
     ]
    }
   ],
   "source": [
    "print(10 >= 20)"
   ]
  },
  {
   "cell_type": "markdown",
   "id": "0363ed95",
   "metadata": {},
   "source": [
    "#### Membership Operators"
   ]
  },
  {
   "cell_type": "code",
   "execution_count": 47,
   "id": "2b98367c",
   "metadata": {},
   "outputs": [],
   "source": [
    "name = \"Ämanda\""
   ]
  },
  {
   "cell_type": "code",
   "execution_count": 48,
   "id": "7ac37b11",
   "metadata": {},
   "outputs": [
    {
     "name": "stdout",
     "output_type": "stream",
     "text": [
      "True\n"
     ]
    }
   ],
   "source": [
    "print(\"a\" in name) #in"
   ]
  },
  {
   "cell_type": "code",
   "execution_count": 49,
   "id": "0f068c0a",
   "metadata": {},
   "outputs": [
    {
     "name": "stdout",
     "output_type": "stream",
     "text": [
      "False\n"
     ]
    }
   ],
   "source": [
    "print(\"M\" in name)"
   ]
  },
  {
   "cell_type": "code",
   "execution_count": 50,
   "id": "325a2efa",
   "metadata": {},
   "outputs": [
    {
     "name": "stdout",
     "output_type": "stream",
     "text": [
      "True\n"
     ]
    }
   ],
   "source": [
    "print(\"K\" not in name)  # not in"
   ]
  },
  {
   "cell_type": "code",
   "execution_count": null,
   "id": "1b85d12e",
   "metadata": {},
   "outputs": [],
   "source": []
  }
 ],
 "metadata": {
  "kernelspec": {
   "display_name": "Python 3 (ipykernel)",
   "language": "python",
   "name": "python3"
  },
  "language_info": {
   "codemirror_mode": {
    "name": "ipython",
    "version": 3
   },
   "file_extension": ".py",
   "mimetype": "text/x-python",
   "name": "python",
   "nbconvert_exporter": "python",
   "pygments_lexer": "ipython3",
   "version": "3.11.5"
  }
 },
 "nbformat": 4,
 "nbformat_minor": 5
}
