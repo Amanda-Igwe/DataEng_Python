{
 "cells": [
  {
   "cell_type": "markdown",
   "id": "3bd4baec",
   "metadata": {},
   "source": [
    "## Loan Application System"
   ]
  },
  {
   "cell_type": "code",
   "execution_count": 5,
   "id": "029b9f46",
   "metadata": {},
   "outputs": [
    {
     "name": "stdout",
     "output_type": "stream",
     "text": [
      "Are you employed? Yes/No: yes\n",
      "How much do you earn? : 6000009.88\n",
      "Hold on as we verify your loan status...\n",
      "Congratulations! Your loan request has been approved\n"
     ]
    }
   ],
   "source": [
    "# creating the variables\n",
    "import time\n",
    "is_employed = input(\"Are you employed? Yes/No: \").capitalize()\n",
    "\n",
    "user_salary = float(input(\"How much do you earn? : \"))\n",
    "\n",
    "salary_threshold = 500000\n",
    "\n",
    "\n",
    "\n",
    "if is_employed == \"Yes\" and user_salary > salary_threshold:\n",
    "    print(\"Hold on as we verify your loan status...\")\n",
    "    \n",
    "    time.sleep(4)\n",
    "    print(\"Congratulations! Your loan request has been approved\")\n",
    "    \n",
    "else:\n",
    "    print(\"Sorry! you cannot access a loan at the moment\")\n"
   ]
  },
  {
   "cell_type": "code",
   "execution_count": null,
   "id": "17990d68",
   "metadata": {},
   "outputs": [],
   "source": []
  }
 ],
 "metadata": {
  "kernelspec": {
   "display_name": "Python 3 (ipykernel)",
   "language": "python",
   "name": "python3"
  },
  "language_info": {
   "codemirror_mode": {
    "name": "ipython",
    "version": 3
   },
   "file_extension": ".py",
   "mimetype": "text/x-python",
   "name": "python",
   "nbconvert_exporter": "python",
   "pygments_lexer": "ipython3",
   "version": "3.11.5"
  }
 },
 "nbformat": 4,
 "nbformat_minor": 5
}
